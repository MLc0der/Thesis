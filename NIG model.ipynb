{
 "cells": [
  {
   "cell_type": "code",
   "execution_count": 8,
   "metadata": {},
   "outputs": [],
   "source": [
    "import numpy as np\n",
    "import pandas as pd\n",
    "import matplotlib.pyplot as plt\n"
   ]
  },
  {
   "cell_type": "code",
   "execution_count": 2,
   "metadata": {},
   "outputs": [],
   "source": [
    "def chi(z, alpha, beta, delta):\n",
    "    kap = delta*(np.sqrt(alpha**2-beta**2)- np.sqrt(alpha**2-(beta+z)**2))\n",
    "    ##########\n",
    "    chi = np.exp(kap)\n",
    "    return(chi)"
   ]
  },
  {
   "cell_type": "code",
   "execution_count": 3,
   "metadata": {},
   "outputs": [],
   "source": [
    "def fun(R,u, K, S0):\n",
    "    fun = (K/S0)**complex(-R, u)/(complex(-R, u) *complex(1-R,u))*chi(complex(R, -u),alpha,beta,delta)\n",
    "    return(fun)"
   ]
  },
  {
   "cell_type": "code",
   "execution_count": 4,
   "metadata": {},
   "outputs": [],
   "source": [
    "#### NUMERICAL INTEGRATION ####"
   ]
  },
  {
   "cell_type": "code",
   "execution_count": 4,
   "metadata": {},
   "outputs": [],
   "source": [
    "from scipy.integrate import quad, quadrature\n",
    "from numpy import sqrt, sin, cos, pi"
   ]
  },
  {
   "cell_type": "code",
   "execution_count": 5,
   "metadata": {},
   "outputs": [],
   "source": [
    "alpha = 6.20\n",
    "beta = -3.80\n",
    "delta = 0.15\n",
    "\n",
    "K = 85\n",
    "R = 2\n",
    "S0 = 100\n",
    "r = 0\n",
    "T = 2"
   ]
  },
  {
   "cell_type": "code",
   "execution_count": 9,
   "metadata": {},
   "outputs": [],
   "source": [
    "def optionpriceNIG(R, alpha, beta, delta,S0, r, T, K):\n",
    "    \n",
    "    def chi(R,u,alpha,beta,delta):\n",
    "        kap = delta*(np.sqrt(alpha**2-beta**2)- np.sqrt(alpha**2-(beta+complex(R,u))**2))\n",
    "        ##########\n",
    "        chi = np.exp(kap)\n",
    "        return(chi)\n",
    "    \n",
    "    \n",
    "    def fun(u):\n",
    "        fun = (K/S0)**complex(-R, u)/(complex(-R, u) *complex(1-R,u))*chi(R, -u,alpha,beta,delta)\n",
    "        return(fun)\n",
    "    \n",
    "    \n",
    "    \n",
    "    NumInt = quad(lambda u: fun(u), -np.inf, np.inf)[0]\n",
    "    C      = ((0.5* np.exp(-r*T)*K)/np.pi) * NumInt \n",
    "    return(C)   "
   ]
  },
  {
   "cell_type": "code",
   "execution_count": 10,
   "metadata": {},
   "outputs": [
    {
     "name": "stderr",
     "output_type": "stream",
     "text": [
      "C:\\anaconda\\envs\\virtualenv\\lib\\site-packages\\scipy\\integrate\\quadpack.py:450: ComplexWarning: Casting complex values to real discards the imaginary part\n",
      "  return _quadpack._qagie(func,bound,infbounds,args,full_output,epsabs,epsrel,limit)\n"
     ]
    },
    {
     "data": {
      "text/plain": [
       "10.117989589726644"
      ]
     },
     "execution_count": 10,
     "metadata": {},
     "output_type": "execute_result"
    }
   ],
   "source": [
    "optionpriceNIG(R, alpha, beta, delta,S0, r, T, K)"
   ]
  },
  {
   "cell_type": "code",
   "execution_count": 9,
   "metadata": {},
   "outputs": [],
   "source": [
    "T = np.array([1/12,2/12,0.25,0.50,0.75])\n",
    "K = np.array([85.0,90.0,92.5,95.0,97.5])\n",
    "C = np.zeros((len(T), len(K)))"
   ]
  },
  {
   "cell_type": "code",
   "execution_count": 10,
   "metadata": {},
   "outputs": [],
   "source": [
    "for i in range(len(T)):\n",
    "    for j in range(len(K)):\n",
    "        C[i][j] = optionpriceNIG(R, alpha, beta, delta,S0, r, T[i], K[j]) "
   ]
  },
  {
   "cell_type": "code",
   "execution_count": 46,
   "metadata": {},
   "outputs": [
    {
     "data": {
      "text/plain": [
       "array([[10.11798959,  6.89525806,  5.52519099,  4.33867038,  3.34410468],\n",
       "       [10.11798959,  6.89525806,  5.52519099,  4.33867038,  3.34410468],\n",
       "       [10.11798959,  6.89525806,  5.52519099,  4.33867038,  3.34410468],\n",
       "       [10.11798959,  6.89525806,  5.52519099,  4.33867038,  3.34410468],\n",
       "       [10.11798959,  6.89525806,  5.52519099,  4.33867038,  3.34410468]])"
      ]
     },
     "execution_count": 46,
     "metadata": {},
     "output_type": "execute_result"
    }
   ],
   "source": []
  }
 ],
 "metadata": {
  "kernelspec": {
   "display_name": "Python 3",
   "language": "python",
   "name": "python3"
  },
  "language_info": {
   "codemirror_mode": {
    "name": "ipython",
    "version": 3
   },
   "file_extension": ".py",
   "mimetype": "text/x-python",
   "name": "python",
   "nbconvert_exporter": "python",
   "pygments_lexer": "ipython3",
   "version": "3.7.3"
  }
 },
 "nbformat": 4,
 "nbformat_minor": 2
}
