{
 "cells": [
  {
   "cell_type": "code",
   "execution_count": 1,
   "metadata": {},
   "outputs": [],
   "source": [
    "import numpy as np\n",
    "import pandas as pd\n",
    "import matplotlib.pyplot as plt\n",
    "import sklearn\n",
    "import tensorflow as tf\n",
    "from tensorflow import keras\n",
    "import sklearn"
   ]
  },
  {
   "cell_type": "code",
   "execution_count": 2,
   "metadata": {},
   "outputs": [
    {
     "data": {
      "text/html": [
       "<div>\n",
       "<style scoped>\n",
       "    .dataframe tbody tr th:only-of-type {\n",
       "        vertical-align: middle;\n",
       "    }\n",
       "\n",
       "    .dataframe tbody tr th {\n",
       "        vertical-align: top;\n",
       "    }\n",
       "\n",
       "    .dataframe thead th {\n",
       "        text-align: right;\n",
       "    }\n",
       "</style>\n",
       "<table border=\"1\" class=\"dataframe\">\n",
       "  <thead>\n",
       "    <tr style=\"text-align: right;\">\n",
       "      <th></th>\n",
       "      <th>mns</th>\n",
       "      <th>tau</th>\n",
       "      <th>r</th>\n",
       "      <th>sigma</th>\n",
       "      <th>V/K</th>\n",
       "    </tr>\n",
       "  </thead>\n",
       "  <tbody>\n",
       "    <tr>\n",
       "      <th>0</th>\n",
       "      <td>1.590163</td>\n",
       "      <td>0.888092</td>\n",
       "      <td>0.054842</td>\n",
       "      <td>0.262597</td>\n",
       "      <td>0.639821</td>\n",
       "    </tr>\n",
       "    <tr>\n",
       "      <th>1</th>\n",
       "      <td>1.385022</td>\n",
       "      <td>0.959522</td>\n",
       "      <td>0.082605</td>\n",
       "      <td>0.165499</td>\n",
       "      <td>0.461592</td>\n",
       "    </tr>\n",
       "    <tr>\n",
       "      <th>2</th>\n",
       "      <td>0.436090</td>\n",
       "      <td>0.415409</td>\n",
       "      <td>0.021017</td>\n",
       "      <td>0.417887</td>\n",
       "      <td>0.000056</td>\n",
       "    </tr>\n",
       "    <tr>\n",
       "      <th>3</th>\n",
       "      <td>0.897337</td>\n",
       "      <td>0.386878</td>\n",
       "      <td>0.092519</td>\n",
       "      <td>0.675848</td>\n",
       "      <td>0.123521</td>\n",
       "    </tr>\n",
       "    <tr>\n",
       "      <th>4</th>\n",
       "      <td>0.678262</td>\n",
       "      <td>0.947873</td>\n",
       "      <td>0.096074</td>\n",
       "      <td>0.157999</td>\n",
       "      <td>0.001229</td>\n",
       "    </tr>\n",
       "  </tbody>\n",
       "</table>\n",
       "</div>"
      ],
      "text/plain": [
       "        mns       tau         r     sigma       V/K\n",
       "0  1.590163  0.888092  0.054842  0.262597  0.639821\n",
       "1  1.385022  0.959522  0.082605  0.165499  0.461592\n",
       "2  0.436090  0.415409  0.021017  0.417887  0.000056\n",
       "3  0.897337  0.386878  0.092519  0.675848  0.123521\n",
       "4  0.678262  0.947873  0.096074  0.157999  0.001229"
      ]
     },
     "execution_count": 2,
     "metadata": {},
     "output_type": "execute_result"
    }
   ],
   "source": [
    "pd_BS = pd.read_csv(r'C:\\Users\\Γιώργος\\Desktop\\THESIS\\PYTHON\\DATA\\BsTest.csv')\n",
    "X = pd_BS.to_numpy()\n",
    "\n",
    "inputs_BS = np.array(X[:,:4])\n",
    "outputs_BS = np.array(X[:,4])\n",
    "pd_BS.head()"
   ]
  },
  {
   "cell_type": "code",
   "execution_count": 3,
   "metadata": {},
   "outputs": [
    {
     "data": {
      "text/html": [
       "<div>\n",
       "<style scoped>\n",
       "    .dataframe tbody tr th:only-of-type {\n",
       "        vertical-align: middle;\n",
       "    }\n",
       "\n",
       "    .dataframe tbody tr th {\n",
       "        vertical-align: top;\n",
       "    }\n",
       "\n",
       "    .dataframe thead th {\n",
       "        text-align: right;\n",
       "    }\n",
       "</style>\n",
       "<table border=\"1\" class=\"dataframe\">\n",
       "  <thead>\n",
       "    <tr style=\"text-align: right;\">\n",
       "      <th></th>\n",
       "      <th>mns</th>\n",
       "      <th>tau</th>\n",
       "      <th>r</th>\n",
       "      <th>sigma</th>\n",
       "      <th>V/K</th>\n",
       "    </tr>\n",
       "  </thead>\n",
       "  <tbody>\n",
       "    <tr>\n",
       "      <th>0</th>\n",
       "      <td>1.392623</td>\n",
       "      <td>0.776319</td>\n",
       "      <td>0.043553</td>\n",
       "      <td>0.436368</td>\n",
       "      <td>0.436368</td>\n",
       "    </tr>\n",
       "    <tr>\n",
       "      <th>1</th>\n",
       "      <td>1.238767</td>\n",
       "      <td>0.851717</td>\n",
       "      <td>0.078256</td>\n",
       "      <td>0.308680</td>\n",
       "      <td>0.308680</td>\n",
       "    </tr>\n",
       "    <tr>\n",
       "      <th>2</th>\n",
       "      <td>0.527068</td>\n",
       "      <td>0.277376</td>\n",
       "      <td>0.001272</td>\n",
       "      <td>0.000149</td>\n",
       "      <td>0.000149</td>\n",
       "    </tr>\n",
       "    <tr>\n",
       "      <th>3</th>\n",
       "      <td>0.873002</td>\n",
       "      <td>0.247260</td>\n",
       "      <td>0.090648</td>\n",
       "      <td>0.080202</td>\n",
       "      <td>0.080202</td>\n",
       "    </tr>\n",
       "    <tr>\n",
       "      <th>4</th>\n",
       "      <td>0.708696</td>\n",
       "      <td>0.839421</td>\n",
       "      <td>0.095092</td>\n",
       "      <td>0.004126</td>\n",
       "      <td>0.004126</td>\n",
       "    </tr>\n",
       "  </tbody>\n",
       "</table>\n",
       "</div>"
      ],
      "text/plain": [
       "        mns       tau         r     sigma       V/K\n",
       "0  1.392623  0.776319  0.043553  0.436368  0.436368\n",
       "1  1.238767  0.851717  0.078256  0.308680  0.308680\n",
       "2  0.527068  0.277376  0.001272  0.000149  0.000149\n",
       "3  0.873002  0.247260  0.090648  0.080202  0.080202\n",
       "4  0.708696  0.839421  0.095092  0.004126  0.004126"
      ]
     },
     "execution_count": 3,
     "metadata": {},
     "output_type": "execute_result"
    }
   ],
   "source": [
    "pd_IV = pd.read_csv(r'C:\\Users\\Γιώργος\\Desktop\\THESIS\\PYTHON\\DATA\\IvTest.csv')\n",
    "pd_IV.head()\n",
    "X_IV = pd_IV.to_numpy()\n",
    "\n",
    "outputs_IV =   np.array(X_IV[:,3])\n",
    "\n",
    "inputs_IV = np.delete(X_IV,4, axis = 1)\n",
    "pd_IV.head()"
   ]
  },
  {
   "cell_type": "code",
   "execution_count": 4,
   "metadata": {},
   "outputs": [],
   "source": [
    "BSmodel1 = keras.models.load_model('BSmodel1.h5')\n",
    "BSmodel2 = keras.models.load_model('BSmodel2.h5')\n",
    "BSmodel3 = keras.models.load_model('BSmodel3.h5')\n",
    "\n",
    "\n"
   ]
  },
  {
   "cell_type": "code",
   "execution_count": 5,
   "metadata": {},
   "outputs": [],
   "source": [
    "IVmodel1 = keras.models.load_model('IVmodel1.h5')\n",
    "IVmodel2 = keras.models.load_model('IVmodel2.h5')\n",
    "IVmodel3 = keras.models.load_model('IVmodel3.h5')\n",
    "\n",
    "\n"
   ]
  },
  {
   "cell_type": "code",
   "execution_count": 6,
   "metadata": {},
   "outputs": [],
   "source": [
    "BSmodelnew = keras.models.load_model('BSmodelnew.h5')"
   ]
  },
  {
   "cell_type": "code",
   "execution_count": 7,
   "metadata": {},
   "outputs": [
    {
     "name": "stdout",
     "output_type": "stream",
     "text": [
      "6250/6250 [==============================] - 9s 1ms/step - loss: 8.9430e-08 - accuracy: 0.0148\n",
      "6250/6250 [==============================] - 9s 1ms/step - loss: 1.3423e-07 - accuracy: 0.0148\n",
      "6250/6250 [==============================] - 9s 1ms/step - loss: 1.0519e-05 - accuracy: 0.0148\n",
      "mean square error from rank1 ANN : 8.942976847947648e-08\n",
      "mean square error from rank2 ANN : 1.3422854294731223e-07\n",
      "mean square error from rank3 ANN : 1.0518808267079294e-05\n"
     ]
    }
   ],
   "source": [
    "BSresults1 = BSmodel1.evaluate(inputs_BS, outputs_BS)\n",
    "BSresults2 = BSmodel2.evaluate(inputs_BS, outputs_BS)\n",
    "BSresults3 = BSmodel3.evaluate(inputs_BS, outputs_BS)\n",
    "\n",
    "\n",
    "print(\"mean square error from rank1 ANN :\", BSresults1[0])\n",
    "print(\"mean square error from rank2 ANN :\", BSresults2[0])\n",
    "print(\"mean square error from rank3 ANN :\", BSresults3[0])"
   ]
  },
  {
   "cell_type": "code",
   "execution_count": 19,
   "metadata": {},
   "outputs": [
    {
     "name": "stdout",
     "output_type": "stream",
     "text": [
      "6250/6250 [==============================] - 7s 1ms/step - loss: 1.3663e-07 - accuracy: 0.0148\n"
     ]
    }
   ],
   "source": [
    "BSresultsnew = BSmodelnew.evaluate(inputs_BS , outputs_BS) "
   ]
  },
  {
   "cell_type": "code",
   "execution_count": 18,
   "metadata": {},
   "outputs": [
    {
     "name": "stdout",
     "output_type": "stream",
     "text": [
      "6250/6250 [==============================] - 13s 2ms/step - loss: 1.0065e-08 - accuracy: 0.0046\n",
      "6250/6250 [==============================] - 14s 2ms/step - loss: 4.1523e-08 - accuracy: 0.0046\n",
      "6250/6250 [==============================] - 10s 2ms/step - loss: 2.4645e-08 - accuracy: 0.0046\n",
      "mean square error from rank1 ANN : 1.0064770350481922e-08\n",
      "mean square error from rank2 ANN : 4.152289179160107e-08\n",
      "mean square error from rank3 ANN : 2.4644853269251144e-08\n"
     ]
    }
   ],
   "source": [
    "IVresults1 = IVmodel1.evaluate(inputs_IV, outputs_IV)\n",
    "IVresults2 = IVmodel2.evaluate(inputs_IV, outputs_IV)\n",
    "IVresults3 = IVmodel3.evaluate(inputs_IV, outputs_IV)\n",
    "\n",
    "\n",
    "print(\"mean square error from rank1 ANN :\", IVresults1[0])\n",
    "print(\"mean square error from rank2 ANN :\", IVresults2[0])\n",
    "print(\"mean square error from rank3 ANN :\", IVresults3[0])"
   ]
  },
  {
   "cell_type": "code",
   "execution_count": 7,
   "metadata": {},
   "outputs": [],
   "source": [
    "##########################################\n",
    "### Different metrics ####################\n",
    "###  MSE ,RMSE, MAPE, PE5, PE10\n",
    "##########################################"
   ]
  },
  {
   "cell_type": "code",
   "execution_count": 23,
   "metadata": {},
   "outputs": [],
   "source": [
    "##################################################################\n",
    "#PEX: percentage of observations within +-X% of the actual price.#\n",
    "##################################################################"
   ]
  },
  {
   "cell_type": "code",
   "execution_count": 24,
   "metadata": {},
   "outputs": [],
   "source": [
    "def PEX_metrics(y_true, y_pred, X):\n",
    "    K = 0\n",
    "    n = len(y_true)\n",
    "    for i in range(n):\n",
    "        if(np.abs(y_true[i] - y_pred[i])<= X/100):\n",
    "            K = K+1\n",
    "    results = K/n *100\n",
    "    return(results)"
   ]
  },
  {
   "cell_type": "code",
   "execution_count": 8,
   "metadata": {},
   "outputs": [],
   "source": [
    "M = np.zeros((7, 5))\n",
    "M[0,0] = 8.9430e-08 #rank 1\n",
    "M[1,0] = 1.3423e-07 #rank 2\n",
    "M[2,0] = 1.0519e-05 #rank 3\n",
    "M[3,0] = 1.3663e-07 #rank new\n",
    "M[4,0] = 1.0065e-08 #IV rank 1\n",
    "M[5,0] = 4.1523e-08 #   rank 2\n",
    "M[6,0] = 2.4645e-08 #   rank 3"
   ]
  },
  {
   "cell_type": "code",
   "execution_count": 9,
   "metadata": {},
   "outputs": [],
   "source": [
    "M[:,1] = np.sqrt(M[:,0])"
   ]
  },
  {
   "cell_type": "code",
   "execution_count": 10,
   "metadata": {},
   "outputs": [],
   "source": [
    "BSresults1 = BSmodel1.predict(inputs_BS)\n",
    "BSresults2 = BSmodel2.predict(inputs_BS)\n",
    "BSresults3 = BSmodel3.predict(inputs_BS)"
   ]
  },
  {
   "cell_type": "code",
   "execution_count": 11,
   "metadata": {},
   "outputs": [],
   "source": [
    "BSresultsnew = BSmodelnew.predict(inputs_BS)\n"
   ]
  },
  {
   "cell_type": "code",
   "execution_count": 12,
   "metadata": {},
   "outputs": [],
   "source": [
    "IVresults1 = IVmodel1.predict(inputs_IV)\n",
    "IVresults2 = IVmodel2.predict(inputs_IV)\n",
    "IVresults3 = IVmodel3.predict(inputs_IV)"
   ]
  },
  {
   "cell_type": "code",
   "execution_count": null,
   "metadata": {},
   "outputs": [],
   "source": []
  },
  {
   "cell_type": "code",
   "execution_count": null,
   "metadata": {},
   "outputs": [],
   "source": []
  },
  {
   "cell_type": "code",
   "execution_count": 21,
   "metadata": {},
   "outputs": [],
   "source": [
    "####\n",
    "##MAPE : Mean absolute percentage error\n",
    "#######################################\n",
    "\n",
    "m = tf.keras.metrics.MeanAbsoluteError()\n",
    "\n",
    "m.update_state(BSresults1, outputs_BS)\n",
    "M[0,2] = m.result().numpy()\n",
    "\n",
    "m.update_state(BSresults2, outputs_BS)\n",
    "M[1,2] = m.result().numpy()\n",
    "\n",
    "m.update_state(BSresults3, outputs_BS)\n",
    "M[2,2] = m.result().numpy()\n",
    "\n",
    "m.update_state(BSresultsnew, outputs_BS)\n",
    "M[3,2] = m.result().numpy()\n",
    "\n",
    "m.update_state(IVresults1, outputs_IV)\n",
    "M[4,2] = m.result().numpy()\n",
    "\n",
    "m.update_state(IVresults2, outputs_IV)\n",
    "M[5,2] = m.result().numpy()\n",
    "\n",
    "m.update_state(IVresults3, outputs_IV)\n",
    "M[6,2] = m.result().numpy()"
   ]
  },
  {
   "cell_type": "code",
   "execution_count": 22,
   "metadata": {},
   "outputs": [
    {
     "data": {
      "text/plain": [
       "array([0.0002341 , 0.00023868, 0.00108115, 0.00087968, 0.00071777,\n",
       "       0.00062831, 0.0005555 ])"
      ]
     },
     "execution_count": 22,
     "metadata": {},
     "output_type": "execute_result"
    }
   ],
   "source": [
    "M[:,2] "
   ]
  },
  {
   "cell_type": "code",
   "execution_count": 25,
   "metadata": {},
   "outputs": [],
   "source": [
    "###########\n",
    "#####PE0.05\n",
    "####"
   ]
  },
  {
   "cell_type": "code",
   "execution_count": 38,
   "metadata": {},
   "outputs": [],
   "source": [
    "M[0,3] = PEX_metrics(BSresults1, outputs_BS, 0.05)\n",
    "\n",
    "M[1,3] = PEX_metrics(BSresults2, outputs_BS, 0.05)\n",
    "\n",
    "M[2,3] = PEX_metrics(BSresults3, outputs_BS, 0.05)\n",
    "\n",
    "M[3,3] = PEX_metrics(BSresultsnew, outputs_BS, 0.05)\n",
    "\n",
    "M[4,3] = PEX_metrics(IVresults1, outputs_IV, 0.05)\n",
    "\n",
    "M[5,3] = PEX_metrics(IVresults2, outputs_IV, 0.05)\n",
    "\n",
    "M[6,3] = PEX_metrics(IVresults3, outputs_IV, 0.05)"
   ]
  },
  {
   "cell_type": "code",
   "execution_count": 36,
   "metadata": {},
   "outputs": [],
   "source": [
    "###########\n",
    "#####PE0.1\n",
    "####"
   ]
  },
  {
   "cell_type": "code",
   "execution_count": 39,
   "metadata": {},
   "outputs": [],
   "source": [
    "M[0,4] = PEX_metrics(BSresults1, outputs_BS, 0.1)\n",
    "\n",
    "M[1,4] = PEX_metrics(BSresults2, outputs_BS, 0.1)\n",
    "\n",
    "M[2,4] = PEX_metrics(BSresults3, outputs_BS, 0.1)\n",
    "\n",
    "M[3,4] = PEX_metrics(BSresultsnew, outputs_BS, 0.1)\n",
    "\n",
    "M[4,4] = PEX_metrics(IVresults1, outputs_IV, 0.1)\n",
    "\n",
    "M[5,4] = PEX_metrics(IVresults2, outputs_IV, 0.1)\n",
    "\n",
    "M[6,4] = PEX_metrics(IVresults3, outputs_IV, 0.1)"
   ]
  },
  {
   "cell_type": "code",
   "execution_count": 42,
   "metadata": {},
   "outputs": [],
   "source": [
    "##"
   ]
  },
  {
   "cell_type": "code",
   "execution_count": 44,
   "metadata": {},
   "outputs": [
    {
     "data": {
      "text/html": [
       "<div>\n",
       "<style scoped>\n",
       "    .dataframe tbody tr th:only-of-type {\n",
       "        vertical-align: middle;\n",
       "    }\n",
       "\n",
       "    .dataframe tbody tr th {\n",
       "        vertical-align: top;\n",
       "    }\n",
       "\n",
       "    .dataframe thead th {\n",
       "        text-align: right;\n",
       "    }\n",
       "</style>\n",
       "<table border=\"1\" class=\"dataframe\">\n",
       "  <thead>\n",
       "    <tr style=\"text-align: right;\">\n",
       "      <th></th>\n",
       "      <th>MSE</th>\n",
       "      <th>RMSE</th>\n",
       "      <th>MAPE</th>\n",
       "      <th>PE 0.05</th>\n",
       "      <th>PE 0.1</th>\n",
       "    </tr>\n",
       "  </thead>\n",
       "  <tbody>\n",
       "    <tr>\n",
       "      <th>0</th>\n",
       "      <td>8.943000e-08</td>\n",
       "      <td>0.000299</td>\n",
       "      <td>0.000234</td>\n",
       "      <td>90.7695</td>\n",
       "      <td>99.8945</td>\n",
       "    </tr>\n",
       "    <tr>\n",
       "      <th>1</th>\n",
       "      <td>1.342300e-07</td>\n",
       "      <td>0.000366</td>\n",
       "      <td>0.000239</td>\n",
       "      <td>89.9990</td>\n",
       "      <td>98.4755</td>\n",
       "    </tr>\n",
       "    <tr>\n",
       "      <th>2</th>\n",
       "      <td>1.051900e-05</td>\n",
       "      <td>0.003243</td>\n",
       "      <td>0.001081</td>\n",
       "      <td>14.3860</td>\n",
       "      <td>22.5330</td>\n",
       "    </tr>\n",
       "    <tr>\n",
       "      <th>3</th>\n",
       "      <td>1.366300e-07</td>\n",
       "      <td>0.000370</td>\n",
       "      <td>0.000880</td>\n",
       "      <td>83.2565</td>\n",
       "      <td>98.7360</td>\n",
       "    </tr>\n",
       "    <tr>\n",
       "      <th>4</th>\n",
       "      <td>1.006500e-08</td>\n",
       "      <td>0.000100</td>\n",
       "      <td>0.000718</td>\n",
       "      <td>99.9850</td>\n",
       "      <td>99.9985</td>\n",
       "    </tr>\n",
       "    <tr>\n",
       "      <th>5</th>\n",
       "      <td>4.152300e-08</td>\n",
       "      <td>0.000204</td>\n",
       "      <td>0.000628</td>\n",
       "      <td>99.7430</td>\n",
       "      <td>99.9995</td>\n",
       "    </tr>\n",
       "    <tr>\n",
       "      <th>6</th>\n",
       "      <td>2.464500e-08</td>\n",
       "      <td>0.000157</td>\n",
       "      <td>0.000555</td>\n",
       "      <td>99.9685</td>\n",
       "      <td>99.9990</td>\n",
       "    </tr>\n",
       "  </tbody>\n",
       "</table>\n",
       "</div>"
      ],
      "text/plain": [
       "            MSE      RMSE      MAPE  PE 0.05   PE 0.1\n",
       "0  8.943000e-08  0.000299  0.000234  90.7695  99.8945\n",
       "1  1.342300e-07  0.000366  0.000239  89.9990  98.4755\n",
       "2  1.051900e-05  0.003243  0.001081  14.3860  22.5330\n",
       "3  1.366300e-07  0.000370  0.000880  83.2565  98.7360\n",
       "4  1.006500e-08  0.000100  0.000718  99.9850  99.9985\n",
       "5  4.152300e-08  0.000204  0.000628  99.7430  99.9995\n",
       "6  2.464500e-08  0.000157  0.000555  99.9685  99.9990"
      ]
     },
     "execution_count": 44,
     "metadata": {},
     "output_type": "execute_result"
    }
   ],
   "source": [
    "Error = pd.DataFrame(M, columns = (\"MSE\", \"RMSE\",\"MAPE\", \"PE 0.05\", \"PE 0.1\"))\n",
    "Error"
   ]
  },
  {
   "cell_type": "code",
   "execution_count": null,
   "metadata": {},
   "outputs": [],
   "source": []
  }
 ],
 "metadata": {
  "kernelspec": {
   "display_name": "Python 3",
   "language": "python",
   "name": "python3"
  },
  "language_info": {
   "codemirror_mode": {
    "name": "ipython",
    "version": 3
   },
   "file_extension": ".py",
   "mimetype": "text/x-python",
   "name": "python",
   "nbconvert_exporter": "python",
   "pygments_lexer": "ipython3",
   "version": "3.7.3"
  }
 },
 "nbformat": 4,
 "nbformat_minor": 2
}
