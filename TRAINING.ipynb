{
 "cells": [
  {
   "cell_type": "code",
   "execution_count": null,
   "metadata": {},
   "outputs": [],
   "source": [
    "import numpy as np\n",
    "import pandas as pd\n",
    "import sklearn\n",
    "import tensorflow as tf\n",
    "from tensorflow import keras\n",
    "import sklearn"
   ]
  },
  {
   "cell_type": "code",
   "execution_count": null,
   "metadata": {},
   "outputs": [],
   "source": []
  },
  {
   "cell_type": "code",
   "execution_count": null,
   "metadata": {},
   "outputs": [],
   "source": [
    "BSmodel1 = build_model(n_hidden=6, n_neurons=200, learning_rate=0.0001, activationFn = \"relu\", input_shape=[4])  # rank1\n",
    "BSmodel2 = build_model(n_hidden=6, n_neurons=200, learning_rate=0.0001, activationFn = \"tanh\", input_shape=[4])  # rank2\n",
    "BSmodel3 = build_model(n_hidden=6, n_neurons=200, learning_rate=0.001, activationFn = \"tanh\", input_shape=[4]) # rank3 "
   ]
  },
  {
   "cell_type": "code",
   "execution_count": null,
   "metadata": {},
   "outputs": [],
   "source": [
    "IVmodel1 = build_model(n_hidden=6, n_neurons=200, learning_rate=0.0001, activationFn = \"relu\", input_shape=[4])  # rank1\n",
    "IVmodel2 = build_model(n_hidden=6, n_neurons=200, learning_rate=0.00001, activationFn = \"relu\", input_shape=[4])  # rank2\n",
    "IVmodel3 = build_model(n_hidden=6, n_neurons=200, learning_rate=0.001, activationFn = \"sigmoid\", input_shape=[4]) # rank3 "
   ]
  },
  {
   "cell_type": "code",
   "execution_count": null,
   "metadata": {},
   "outputs": [],
   "source": [
    "pd_BS = pd.read_csv('BsTraining.csv')\n",
    "X = pd_BS.to_numpy()\n",
    "\n",
    "inputs_BS = np.array(X[:,:4])\n",
    "outputs_BS = np.array(X[:,4])\n",
    "pd_BS.head()"
   ]
  },
  {
   "cell_type": "code",
   "execution_count": null,
   "metadata": {},
   "outputs": [],
   "source": [
    "pd_IV = pd.read_csv('IvTraining.csv')\n",
    "pd_IV.head()\n",
    "X_IV = pd_IV.to_numpy()\n",
    "\n",
    "inputs_IV = np.array(X_IV[:,:4])\n",
    "outputs_IV =   np.array(X_IV[:,4])\n",
    "pd_IV.head()"
   ]
  },
  {
   "cell_type": "code",
   "execution_count": null,
   "metadata": {},
   "outputs": [],
   "source": []
  },
  {
   "cell_type": "code",
   "execution_count": null,
   "metadata": {},
   "outputs": [],
   "source": [
    "from sklearn.model_selection import train_test_split\n",
    "X_train_BS, X_valid_BS, y_train_BS, y_valid_BS = train_test_split(inputs_BS, outputs_BS, test_size = 0.1)"
   ]
  },
  {
   "cell_type": "code",
   "execution_count": null,
   "metadata": {},
   "outputs": [],
   "source": [
    "BShistory1 = BSmodel1.fit(X_train_BS, y_train_BS, epochs = 200, batch_size = 512, validation_data=(X_valid_BS, y_valid_BS))"
   ]
  },
  {
   "cell_type": "code",
   "execution_count": null,
   "metadata": {},
   "outputs": [],
   "source": [
    "############################################################################################################################\n",
    "#     fit() method returns a History object containing the training parameters(history.params), the list of epochs it went #\n",
    "# through(history.epochs), and most importantly a dictionary (history.history), containing the loss and extra metrics it   #\n",
    "# measured at the end of each epoch on the training set and on the validation set (if any). if  you  use this dictionary   #\n",
    "# to create a pandas DataFrame and call its plot() method, you get the learning curves                                     #\n",
    "############################################################################################################################\n",
    "\n",
    "pd1 = pd.DataFrame(BShistory1.history)\n",
    "pd1.to_csv('BShistory1.csv')\n",
    "pd1.plot(figsize=(8, 5))\n",
    "plt.grid(True)\n",
    "plt.gca().set_ylim(0, 0.0001) # set the vertical range to [0-1]\n",
    "plt.title('BSlearningCurve1')\n",
    "plt.show()"
   ]
  },
  {
   "cell_type": "code",
   "execution_count": null,
   "metadata": {},
   "outputs": [],
   "source": [
    "BShistory2 = BSmodel2.fit(X_train_BS, y_train_BS, epochs = 200, batch_size = 256, validation_data=(X_valid_BS, y_valid_BS))"
   ]
  },
  {
   "cell_type": "code",
   "execution_count": null,
   "metadata": {},
   "outputs": [],
   "source": [
    "pd2 = pd.DataFrame(BShistory2.history)\n",
    "pd2.to_csv('BShistory2.csv')\n",
    "pd2.plot(figsize=(8, 5))\n",
    "plt.grid(True)\n",
    "plt.gca().set_ylim(0, 0.0001) # set the vertical range to [0-1]\n",
    "plt.title('BSlearningCurve2')\n",
    "plt.show()"
   ]
  },
  {
   "cell_type": "code",
   "execution_count": null,
   "metadata": {},
   "outputs": [],
   "source": [
    "BShistory3 = BSmodel3.fit(X_train_BS, y_train_BS, epochs = 200, batch_size = 256, validation_data=(X_valid_BS, y_valid_BS))"
   ]
  },
  {
   "cell_type": "code",
   "execution_count": null,
   "metadata": {},
   "outputs": [],
   "source": [
    "pd3 = pd.DataFrame(BShistory3.history)\n",
    "pd3.to_csv('BShistory3.csv')\n",
    "pd3.plot(figsize=(8, 5))\n",
    "plt.grid(True)\n",
    "plt.gca().set_ylim(0, 0.0001) # set the vertical range to [0-1]\n",
    "plt.show()"
   ]
  },
  {
   "cell_type": "code",
   "execution_count": null,
   "metadata": {},
   "outputs": [],
   "source": [
    "plt.plot(pd1[\"loss\"], \"r\", label = \"rank1\")\n",
    "#plt.plot(pd1[\"val_loss\"], \"b\")\n",
    "plt.plot(pd2[\"loss\"], \"g\", label = \"rank2\")\n",
    "\n",
    "plt.plot(pd3[\"loss\"], \"b\", label = \"rank3\")\n",
    "\n",
    "plt.grid(True)\n",
    "plt.gca().set_ylim(0, 0.0005)\n",
    "plt.legend(loc = \"upper right\")\n",
    "plt.title('BSlearningCurve3')\n",
    "plt.show()"
   ]
  },
  {
   "cell_type": "code",
   "execution_count": null,
   "metadata": {},
   "outputs": [],
   "source": [
    "BSmodel1.save(\"BSmodel1.h5\")\n",
    "BSmodel2.save(\"BSmodel2.h5\")\n",
    "BSmodel3.save(\"BSmodel3.h5\")"
   ]
  },
  {
   "cell_type": "code",
   "execution_count": null,
   "metadata": {},
   "outputs": [],
   "source": [
    "################################# Ι  V   A N N ################################################################"
   ]
  },
  {
   "cell_type": "code",
   "execution_count": null,
   "metadata": {},
   "outputs": [],
   "source": [
    "X_train_IV, X_valid_IV, y_train_IV, y_valid_IV = train_test_split(inputs_IV, outputs_IV, test_size = 0.1)"
   ]
  },
  {
   "cell_type": "code",
   "execution_count": null,
   "metadata": {},
   "outputs": [],
   "source": [
    "IVhistory1 = IVmodel1.fit(X_train_IV, y_train_IV, epochs = 200, batch_size = 256, validation_data=(X_valid_IV, y_valid_IV))"
   ]
  },
  {
   "cell_type": "code",
   "execution_count": null,
   "metadata": {},
   "outputs": [],
   "source": [
    "pd4 = pd.DataFrame(IVhistory1.history)\n",
    "pd4.to_csv('IVhistory1.csv')\n",
    "pd4.plot(figsize=(8, 5))\n",
    "plt.grid(True)\n",
    "plt.gca().set_ylim(0, 0.0001) # set the vertical range to [0-1]\n",
    "plt.title('IVlearningCurve1')\n",
    "plt.show()"
   ]
  },
  {
   "cell_type": "code",
   "execution_count": null,
   "metadata": {},
   "outputs": [],
   "source": [
    "IVhistory2 = IVmodel2.fit(X_train_IV, y_train_IV, epochs = 200, batch_size = 512, validation_data=(X_valid_IV, y_valid_IV))"
   ]
  },
  {
   "cell_type": "code",
   "execution_count": null,
   "metadata": {},
   "outputs": [],
   "source": [
    "pd5 = pd.DataFrame(IVhistory2.history)\n",
    "pd5.to_csv('IVhistory2.csv')\n",
    "pd5.plot(figsize=(8, 5))\n",
    "plt.grid(True)\n",
    "plt.gca().set_ylim(0, 0.0001) # set the vertical range to [0-1]\n",
    "plt.title('IVlearningCurve2')\n",
    "\n",
    "plt.show()"
   ]
  },
  {
   "cell_type": "code",
   "execution_count": null,
   "metadata": {},
   "outputs": [],
   "source": [
    "IVhistory3 = IVmodel3.fit(X_train_IV, y_train_IV, epochs = 200, batch_size = 256, validation_data=(X_valid_IV, y_valid_IV))"
   ]
  },
  {
   "cell_type": "code",
   "execution_count": null,
   "metadata": {},
   "outputs": [],
   "source": [
    "pd6 = pd.DataFrame(IVhistory3.history)\n",
    "pd6.to_csv('IVhistory3.csv')\n",
    "pd6.plot(figsize=(8, 5))\n",
    "plt.grid(True)\n",
    "plt.gca().set_ylim(0, 0.0001) # set the vertical range to [0-1]\n",
    "plt.title('IVlearningCurve3')\n",
    "\n",
    "plt.show()"
   ]
  },
  {
   "cell_type": "code",
   "execution_count": null,
   "metadata": {},
   "outputs": [],
   "source": [
    "#plt.plot(np.log(pd1_IV[\"loss\"]), \"r\", label = \"rank1\")\n",
    "plt.plot(pd4[\"loss\"], \"r\", label ='rank1')\n",
    "plt.plot(pd5[\"loss\"], \"g\", label = \"rank2\")\n",
    "\n",
    "plt.plot(pd6[\"loss\"], \"b\", label = \"rank3\")\n",
    "\n",
    "plt.grid(True)\n",
    "plt.gca().set_ylim(0,0.0001)\n",
    "plt.legend(loc = \"upper right\")\n",
    "plt.title('Training losses')\n",
    "plt.show()"
   ]
  },
  {
   "cell_type": "code",
   "execution_count": null,
   "metadata": {},
   "outputs": [],
   "source": [
    "IVmodel1.save(\"IVmodel1.h5\")\n",
    "IVmodel2.save(\"IVmodel2.h5\")\n",
    "IVmodel3.save(\"IVmodel3.h5\")"
   ]
  }
 ],
 "metadata": {
  "kernelspec": {
   "display_name": "Python 3",
   "language": "python",
   "name": "python3"
  },
  "language_info": {
   "codemirror_mode": {
    "name": "ipython",
    "version": 3
   },
   "file_extension": ".py",
   "mimetype": "text/x-python",
   "name": "python",
   "nbconvert_exporter": "python",
   "pygments_lexer": "ipython3",
   "version": "3.7.6"
  }
 },
 "nbformat": 4,
 "nbformat_minor": 2
}
