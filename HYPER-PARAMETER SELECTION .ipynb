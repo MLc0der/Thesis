{
 "cells": [
  {
   "cell_type": "code",
   "execution_count": 1,
   "metadata": {},
   "outputs": [],
   "source": [
    "import numpy as np\n",
    "import pandas as pd\n",
    "import sklearn\n",
    "import tensorflow as tf\n",
    "from tensorflow import keras\n",
    "import sklearn\n",
    "from sklearn.model_selection import GridSearchCV"
   ]
  },
  {
   "cell_type": "code",
   "execution_count": 2,
   "metadata": {},
   "outputs": [],
   "source": [
    "def build_model(n_hidden=6, n_neurons=200, learning_rate=3e-3, activationFn = \"relu\", input_shape=[4]):\n",
    "    model = keras.models.Sequential()\n",
    "    model.add(keras.layers.InputLayer(input_shape=input_shape))\n",
    "    for layer in range(n_hidden):\n",
    "        model.add(keras.layers.Dense(n_neurons, activation=activationFn, kernel_initializer='glorot_uniform',bias_initializer='zeros'))\n",
    "    model.add(keras.layers.Dense(1, activation = activationFn))      # No activation function in output layer \n",
    "    optimizer = keras.optimizers.Adam(lr=learning_rate)\n",
    "    model.compile(loss=\"mean_squared_error\", metrics = \"accuracy\", optimizer=optimizer)\n",
    "    return model"
   ]
  },
  {
   "cell_type": "code",
   "execution_count": 3,
   "metadata": {},
   "outputs": [],
   "source": [
    "# Utility function to report best scores\n",
    "def report(results, n_top=3):\n",
    "    for i in range(1, n_top + 1):\n",
    "        candidates = np.flatnonzero(results['rank_test_score'] == i)\n",
    "        for candidate in candidates:\n",
    "            print(\"Model with rank: {0}\".format(i))\n",
    "            print(\"Mean validation score: {0:.3f} (std: {1:.3f})\"\n",
    "                  .format(results['mean_test_score'][candidate],\n",
    "                          results['std_test_score'][candidate]))\n",
    "            print(\"Parameters: {0}\".format(results['params'][candidate]))\n",
    "            print(\"\")"
   ]
  },
  {
   "cell_type": "code",
   "execution_count": 4,
   "metadata": {},
   "outputs": [],
   "source": [
    "#############################################################################################################################"
   ]
  },
  {
   "cell_type": "code",
   "execution_count": 5,
   "metadata": {},
   "outputs": [
    {
     "data": {
      "text/html": [
       "<div>\n",
       "<style scoped>\n",
       "    .dataframe tbody tr th:only-of-type {\n",
       "        vertical-align: middle;\n",
       "    }\n",
       "\n",
       "    .dataframe tbody tr th {\n",
       "        vertical-align: top;\n",
       "    }\n",
       "\n",
       "    .dataframe thead th {\n",
       "        text-align: right;\n",
       "    }\n",
       "</style>\n",
       "<table border=\"1\" class=\"dataframe\">\n",
       "  <thead>\n",
       "    <tr style=\"text-align: right;\">\n",
       "      <th></th>\n",
       "      <th>mns</th>\n",
       "      <th>tau</th>\n",
       "      <th>r</th>\n",
       "      <th>sigma</th>\n",
       "      <th>V/K</th>\n",
       "    </tr>\n",
       "  </thead>\n",
       "  <tbody>\n",
       "    <tr>\n",
       "      <th>0</th>\n",
       "      <td>1.541675</td>\n",
       "      <td>1.017447</td>\n",
       "      <td>0.039624</td>\n",
       "      <td>0.401359</td>\n",
       "      <td>0.610243</td>\n",
       "    </tr>\n",
       "    <tr>\n",
       "      <th>1</th>\n",
       "      <td>0.951482</td>\n",
       "      <td>0.780569</td>\n",
       "      <td>0.072641</td>\n",
       "      <td>0.388520</td>\n",
       "      <td>0.132538</td>\n",
       "    </tr>\n",
       "    <tr>\n",
       "      <th>2</th>\n",
       "      <td>0.621195</td>\n",
       "      <td>0.661421</td>\n",
       "      <td>0.081122</td>\n",
       "      <td>0.227687</td>\n",
       "      <td>0.000547</td>\n",
       "    </tr>\n",
       "    <tr>\n",
       "      <th>3</th>\n",
       "      <td>0.407832</td>\n",
       "      <td>0.270071</td>\n",
       "      <td>0.062614</td>\n",
       "      <td>0.635770</td>\n",
       "      <td>0.000247</td>\n",
       "    </tr>\n",
       "    <tr>\n",
       "      <th>4</th>\n",
       "      <td>0.952828</td>\n",
       "      <td>0.233924</td>\n",
       "      <td>0.045345</td>\n",
       "      <td>0.857275</td>\n",
       "      <td>0.141834</td>\n",
       "    </tr>\n",
       "  </tbody>\n",
       "</table>\n",
       "</div>"
      ],
      "text/plain": [
       "        mns       tau         r     sigma       V/K\n",
       "0  1.541675  1.017447  0.039624  0.401359  0.610243\n",
       "1  0.951482  0.780569  0.072641  0.388520  0.132538\n",
       "2  0.621195  0.661421  0.081122  0.227687  0.000547\n",
       "3  0.407832  0.270071  0.062614  0.635770  0.000247\n",
       "4  0.952828  0.233924  0.045345  0.857275  0.141834"
      ]
     },
     "execution_count": 5,
     "metadata": {},
     "output_type": "execute_result"
    }
   ],
   "source": [
    "pd_BS = pd.read_csv(r'C:\\Users\\Γιώργος\\Desktop\\THESIS\\PYTHON\\DATA\\BsHyperparameter.csv')\n",
    "pd_BS.head()\n",
    "X = pd_BS.to_numpy()\n",
    "\n",
    "inputs = np.array(X[:,:4])\n",
    "outputs = np.array(X[:,4])\n",
    "pd_BS.head()"
   ]
  },
  {
   "cell_type": "code",
   "execution_count": 6,
   "metadata": {},
   "outputs": [
    {
     "data": {
      "text/plain": [
       "((100000, 4), (100000,))"
      ]
     },
     "execution_count": 6,
     "metadata": {},
     "output_type": "execute_result"
    }
   ],
   "source": [
    "inputs.shape, outputs.shape"
   ]
  },
  {
   "cell_type": "code",
   "execution_count": 7,
   "metadata": {},
   "outputs": [],
   "source": [
    "#KerasRegressor object is a thin wrapper around the Keras model built using build_model()\n",
    "#we can use this object like a regular Scikit-Learn regressor, in order to perform GridSearch-Cross validation.\n",
    "from sklearn.model_selection import GridSearchCV\n",
    "param_distribs = {\n",
    "\"activationFn\" : (\"relu\", \"sigmoid\", \"tanh\"),\n",
    "\"learning_rate\": (1e-3, 1e-4, 1e-5),\n",
    "\"batch_size\"   : (256, 512, 1024)\n",
    "}\n",
    "keras_reg = keras.wrappers.scikit_learn.KerasRegressor(build_model)\n",
    "GrdSearch_BS = GridSearchCV(keras_reg, param_distribs, scoring = \"neg_mean_squared_error\" ,cv = None)#cv = None => use of 5-fold"
   ]
  },
  {
   "cell_type": "code",
   "execution_count": null,
   "metadata": {
    "scrolled": true
   },
   "outputs": [],
   "source": [
    "GrdSearch_BS.fit(inputs, outputs, epochs = 20)"
   ]
  },
  {
   "cell_type": "code",
   "execution_count": 9,
   "metadata": {},
   "outputs": [
    {
     "name": "stdout",
     "output_type": "stream",
     "text": [
      "Model with rank: 1\n",
      "Mean validation score: -0.000 (std: 0.000)\n",
      "Parameters: {'activationFn': 'tanh', 'batch_size': 256, 'learning_rate': 0.001}\n",
      "\n",
      "Model with rank: 2\n",
      "Mean validation score: -0.000 (std: 0.000)\n",
      "Parameters: {'activationFn': 'tanh', 'batch_size': 256, 'learning_rate': 0.0001}\n",
      "\n",
      "Model with rank: 3\n",
      "Mean validation score: -0.000 (std: 0.000)\n",
      "Parameters: {'activationFn': 'tanh', 'batch_size': 512, 'learning_rate': 0.001}\n",
      "\n"
     ]
    }
   ],
   "source": [
    "Results_BS = pd.DataFrame(GrdSearch_BS.cv_results_)\n",
    "report(GrdSearch_BS.cv_results_)"
   ]
  },
  {
   "cell_type": "code",
   "execution_count": null,
   "metadata": {},
   "outputs": [],
   "source": [
    "Results_BS.to_csv(r'C:\\Users\\Γιώργος\\Desktop\\THESIS\\PYTHON\\HYPER-PARAMETER_RESULTS.csv')"
   ]
  },
  {
   "cell_type": "code",
   "execution_count": null,
   "metadata": {},
   "outputs": [],
   "source": [
    "########################################################################################################################"
   ]
  },
  {
   "cell_type": "code",
   "execution_count": null,
   "metadata": {},
   "outputs": [],
   "source": []
  },
  {
   "cell_type": "code",
   "execution_count": null,
   "metadata": {},
   "outputs": [],
   "source": [
    "pd_IV = pd.read_csv(r'C:\\Users\\Γιώργος\\Desktop\\THESIS\\PYTHON\\DATA\\IvHyperparameter.csv')\n",
    "pd_IV.head()\n",
    "X = pd_BS.to_numpy()\n",
    "\n",
    "inputs_IV= np.array(X[:,:4])\n",
    "outputs_IV = np.array(X[:,4])\n",
    "pd_IV.head()"
   ]
  },
  {
   "cell_type": "code",
   "execution_count": null,
   "metadata": {},
   "outputs": [],
   "source": [
    "GrdSearch_IV = GridSearchCV(keras_reg, param_distribs, scoring = \"neg_mean_squared_error\" ,cv = None)\n"
   ]
  },
  {
   "cell_type": "code",
   "execution_count": null,
   "metadata": {},
   "outputs": [],
   "source": [
    "GrdSearch_IV.fit(inputs_IV, outputs_IV, epochs = 20)"
   ]
  },
  {
   "cell_type": "code",
   "execution_count": null,
   "metadata": {},
   "outputs": [],
   "source": [
    "Results_IV = pd.DataFrame(GrdSearch_IV.cv_results_)\n",
    "report(GrdSearch_IV.cv_results_)"
   ]
  },
  {
   "cell_type": "code",
   "execution_count": null,
   "metadata": {},
   "outputs": [],
   "source": [
    "Results_IV.to_csv(r'C:\\Users\\Γιώργος\\Desktop\\THESIS\\PYTHON\\HYPER-PARAMETER_RESULTS.csv')"
   ]
  }
 ],
 "metadata": {
  "kernelspec": {
   "display_name": "Python 3",
   "language": "python",
   "name": "python3"
  },
  "language_info": {
   "codemirror_mode": {
    "name": "ipython",
    "version": 3
   },
   "file_extension": ".py",
   "mimetype": "text/x-python",
   "name": "python",
   "nbconvert_exporter": "python",
   "pygments_lexer": "ipython3",
   "version": "3.7.6"
  }
 },
 "nbformat": 4,
 "nbformat_minor": 2
}
