{
 "cells": [
  {
   "cell_type": "code",
   "execution_count": 1,
   "metadata": {},
   "outputs": [],
   "source": [
    "import numpy as np\n",
    "import pandas as pd\n",
    "import matplotlib.pyplot as plt\n",
    "import sklearn\n",
    "import tensorflow as tf\n",
    "from tensorflow import keras\n",
    "import sklearn"
   ]
  },
  {
   "cell_type": "code",
   "execution_count": 2,
   "metadata": {},
   "outputs": [],
   "source": [
    "def build_model(n_hidden=6, n_neurons=200, learning_rate=3e-3, activationFn = \"relu\", input_shape=[4]):\n",
    "    model = keras.models.Sequential()\n",
    "    model.add(keras.layers.InputLayer(input_shape=input_shape))\n",
    "    for layer in range(n_hidden):\n",
    "        model.add(keras.layers.Dense(n_neurons, activation=activationFn, kernel_initializer='glorot_uniform',bias_initializer='zeros'))\n",
    "    model.add(keras.layers.Dense(1, activation = activationFn))      # No activation function in output layer \n",
    "    optimizer = keras.optimizers.Adam(lr=learning_rate)\n",
    "    model.compile(loss=\"mean_squared_error\", metrics = \"accuracy\", optimizer=optimizer)\n",
    "    return model"
   ]
  },
  {
   "cell_type": "code",
   "execution_count": 3,
   "metadata": {},
   "outputs": [
    {
     "data": {
      "text/html": [
       "<div>\n",
       "<style scoped>\n",
       "    .dataframe tbody tr th:only-of-type {\n",
       "        vertical-align: middle;\n",
       "    }\n",
       "\n",
       "    .dataframe tbody tr th {\n",
       "        vertical-align: top;\n",
       "    }\n",
       "\n",
       "    .dataframe thead th {\n",
       "        text-align: right;\n",
       "    }\n",
       "</style>\n",
       "<table border=\"1\" class=\"dataframe\">\n",
       "  <thead>\n",
       "    <tr style=\"text-align: right;\">\n",
       "      <th></th>\n",
       "      <th>mns</th>\n",
       "      <th>tau</th>\n",
       "      <th>r</th>\n",
       "      <th>sigma</th>\n",
       "      <th>V/K</th>\n",
       "    </tr>\n",
       "  </thead>\n",
       "  <tbody>\n",
       "    <tr>\n",
       "      <th>0</th>\n",
       "      <td>0.592725</td>\n",
       "      <td>0.577882</td>\n",
       "      <td>0.060886</td>\n",
       "      <td>0.612360</td>\n",
       "      <td>0.026292</td>\n",
       "    </tr>\n",
       "    <tr>\n",
       "      <th>1</th>\n",
       "      <td>1.581379</td>\n",
       "      <td>0.553633</td>\n",
       "      <td>0.043828</td>\n",
       "      <td>0.622359</td>\n",
       "      <td>0.648810</td>\n",
       "    </tr>\n",
       "    <tr>\n",
       "      <th>2</th>\n",
       "      <td>0.635764</td>\n",
       "      <td>0.310517</td>\n",
       "      <td>0.032638</td>\n",
       "      <td>0.951619</td>\n",
       "      <td>0.046535</td>\n",
       "    </tr>\n",
       "    <tr>\n",
       "      <th>3</th>\n",
       "      <td>0.785130</td>\n",
       "      <td>0.264107</td>\n",
       "      <td>0.065091</td>\n",
       "      <td>0.154104</td>\n",
       "      <td>0.000047</td>\n",
       "    </tr>\n",
       "    <tr>\n",
       "      <th>4</th>\n",
       "      <td>0.536041</td>\n",
       "      <td>0.776493</td>\n",
       "      <td>0.021986</td>\n",
       "      <td>0.187089</td>\n",
       "      <td>0.000003</td>\n",
       "    </tr>\n",
       "  </tbody>\n",
       "</table>\n",
       "</div>"
      ],
      "text/plain": [
       "        mns       tau         r     sigma       V/K\n",
       "0  0.592725  0.577882  0.060886  0.612360  0.026292\n",
       "1  1.581379  0.553633  0.043828  0.622359  0.648810\n",
       "2  0.635764  0.310517  0.032638  0.951619  0.046535\n",
       "3  0.785130  0.264107  0.065091  0.154104  0.000047\n",
       "4  0.536041  0.776493  0.021986  0.187089  0.000003"
      ]
     },
     "execution_count": 3,
     "metadata": {},
     "output_type": "execute_result"
    }
   ],
   "source": [
    "pd_BS = pd.read_csv(r'C:\\Users\\Γιώργος\\Desktop\\THESIS\\PYTHON\\DATA\\BsTraining.csv')\n",
    "X = pd_BS.to_numpy()\n",
    "\n",
    "inputs_BS = np.array(X[:,:4])\n",
    "outputs_BS = np.array(X[:,4])\n",
    "pd_BS.head()"
   ]
  },
  {
   "cell_type": "code",
   "execution_count": 4,
   "metadata": {},
   "outputs": [],
   "source": [
    "from sklearn.model_selection import train_test_split\n",
    "X_train_BS, X_valid_BS, y_train_BS, y_valid_BS = train_test_split(inputs_BS, outputs_BS, test_size = 0.1)"
   ]
  },
  {
   "cell_type": "code",
   "execution_count": 5,
   "metadata": {},
   "outputs": [
    {
     "name": "stdout",
     "output_type": "stream",
     "text": [
      "Model: \"sequential\"\n",
      "_________________________________________________________________\n",
      "Layer (type)                 Output Shape              Param #   \n",
      "=================================================================\n",
      "dense (Dense)                (None, 250)               1250      \n",
      "_________________________________________________________________\n",
      "dense_1 (Dense)              (None, 250)               62750     \n",
      "_________________________________________________________________\n",
      "dense_2 (Dense)              (None, 1)                 251       \n",
      "=================================================================\n",
      "Total params: 64,251\n",
      "Trainable params: 64,251\n",
      "Non-trainable params: 0\n",
      "_________________________________________________________________\n"
     ]
    }
   ],
   "source": [
    "BSmodelnew = build_model(n_hidden=2, n_neurons=250, learning_rate=0.0001, activationFn = \"relu\", input_shape=[4])\n",
    "BSmodelnew.summary()"
   ]
  },
  {
   "cell_type": "code",
   "execution_count": 6,
   "metadata": {},
   "outputs": [
    {
     "name": "stdout",
     "output_type": "stream",
     "text": [
      "Epoch 1/80\n",
      "3516/3516 [==============================] - 23s 6ms/step - loss: 0.0014 - accuracy: 0.0148 - val_loss: 1.5735e-05 - val_accuracy: 0.0147\n",
      "Epoch 2/80\n",
      "3516/3516 [==============================] - 24s 7ms/step - loss: 7.3993e-06 - accuracy: 0.0148 - val_loss: 3.3609e-06 - val_accuracy: 0.0147\n",
      "Epoch 3/80\n",
      "3516/3516 [==============================] - 26s 7ms/step - loss: 3.2193e-06 - accuracy: 0.0148 - val_loss: 7.2258e-06 - val_accuracy: 0.0147\n",
      "Epoch 4/80\n",
      "3516/3516 [==============================] - 22s 6ms/step - loss: 2.2003e-06 - accuracy: 0.0148 - val_loss: 1.2458e-06 - val_accuracy: 0.0147\n",
      "Epoch 5/80\n",
      "3516/3516 [==============================] - 21s 6ms/step - loss: 1.7636e-06 - accuracy: 0.0148 - val_loss: 9.9255e-07 - val_accuracy: 0.0147\n",
      "Epoch 6/80\n",
      "3516/3516 [==============================] - 23s 7ms/step - loss: 1.5482e-06 - accuracy: 0.0148 - val_loss: 8.2153e-07 - val_accuracy: 0.0147\n",
      "Epoch 7/80\n",
      "3516/3516 [==============================] - 25s 7ms/step - loss: 1.4335e-06 - accuracy: 0.0148 - val_loss: 2.2331e-06 - val_accuracy: 0.0147\n",
      "Epoch 8/80\n",
      "3516/3516 [==============================] - 29s 8ms/step - loss: 1.3197e-06 - accuracy: 0.0148 - val_loss: 6.6261e-07 - val_accuracy: 0.0147\n",
      "Epoch 9/80\n",
      "3516/3516 [==============================] - 26s 7ms/step - loss: 1.2184e-06 - accuracy: 0.0148 - val_loss: 1.9925e-06 - val_accuracy: 0.0147\n",
      "Epoch 10/80\n",
      "3516/3516 [==============================] - 23s 6ms/step - loss: 1.1695e-06 - accuracy: 0.0148 - val_loss: 7.5253e-07 - val_accuracy: 0.0147\n",
      "Epoch 11/80\n",
      "3516/3516 [==============================] - 22s 6ms/step - loss: 1.1031e-06 - accuracy: 0.0148 - val_loss: 8.9677e-07 - val_accuracy: 0.0147\n",
      "Epoch 12/80\n",
      "3516/3516 [==============================] - 18s 5ms/step - loss: 1.0569e-06 - accuracy: 0.0148 - val_loss: 1.1410e-06 - val_accuracy: 0.0147\n",
      "Epoch 13/80\n",
      "3516/3516 [==============================] - 21s 6ms/step - loss: 1.0390e-06 - accuracy: 0.0148 - val_loss: 2.2172e-06 - val_accuracy: 0.0147\n",
      "Epoch 14/80\n",
      "3516/3516 [==============================] - 25s 7ms/step - loss: 9.8191e-07 - accuracy: 0.0148 - val_loss: 7.1773e-07 - val_accuracy: 0.0147\n",
      "Epoch 15/80\n",
      "3516/3516 [==============================] - 18s 5ms/step - loss: 9.4543e-07 - accuracy: 0.0148 - val_loss: 8.7665e-07 - val_accuracy: 0.0147\n",
      "Epoch 16/80\n",
      "3516/3516 [==============================] - 21s 6ms/step - loss: 9.1567e-07 - accuracy: 0.0148 - val_loss: 7.2319e-07 - val_accuracy: 0.0147\n",
      "Epoch 17/80\n",
      "3516/3516 [==============================] - 21s 6ms/step - loss: 8.8735e-07 - accuracy: 0.0148 - val_loss: 4.1501e-07 - val_accuracy: 0.0147\n",
      "Epoch 18/80\n",
      "3516/3516 [==============================] - 20s 6ms/step - loss: 8.5485e-07 - accuracy: 0.0148 - val_loss: 1.5214e-06 - val_accuracy: 0.0147\n",
      "Epoch 19/80\n",
      "3516/3516 [==============================] - 20s 6ms/step - loss: 8.4154e-07 - accuracy: 0.0148 - val_loss: 7.8743e-07 - val_accuracy: 0.0147\n",
      "Epoch 20/80\n",
      "3516/3516 [==============================] - 19s 6ms/step - loss: 8.3161e-07 - accuracy: 0.0148 - val_loss: 3.1033e-07 - val_accuracy: 0.0147\n",
      "Epoch 21/80\n",
      "3516/3516 [==============================] - 20s 6ms/step - loss: 7.8801e-07 - accuracy: 0.0148 - val_loss: 3.2731e-07 - val_accuracy: 0.0147\n",
      "Epoch 22/80\n",
      "3516/3516 [==============================] - 20s 6ms/step - loss: 7.7534e-07 - accuracy: 0.0148 - val_loss: 8.8449e-07 - val_accuracy: 0.0147\n",
      "Epoch 23/80\n",
      "3516/3516 [==============================] - 21s 6ms/step - loss: 7.6567e-07 - accuracy: 0.0148 - val_loss: 4.9232e-07 - val_accuracy: 0.0147\n",
      "Epoch 24/80\n",
      "3516/3516 [==============================] - 20s 6ms/step - loss: 7.3592e-07 - accuracy: 0.0148 - val_loss: 8.1611e-07 - val_accuracy: 0.0147\n",
      "Epoch 25/80\n",
      "3516/3516 [==============================] - 20s 6ms/step - loss: 7.4027e-07 - accuracy: 0.0148 - val_loss: 8.7184e-07 - val_accuracy: 0.0147\n",
      "Epoch 26/80\n",
      "3516/3516 [==============================] - 21s 6ms/step - loss: 7.1991e-07 - accuracy: 0.0148 - val_loss: 6.3832e-07 - val_accuracy: 0.0147\n",
      "Epoch 27/80\n",
      "3516/3516 [==============================] - 19s 6ms/step - loss: 7.0514e-07 - accuracy: 0.0148 - val_loss: 2.4014e-07 - val_accuracy: 0.0147\n",
      "Epoch 28/80\n",
      "3516/3516 [==============================] - 18s 5ms/step - loss: 6.9613e-07 - accuracy: 0.0148 - val_loss: 6.5706e-07 - val_accuracy: 0.0147\n",
      "Epoch 29/80\n",
      "3516/3516 [==============================] - 21s 6ms/step - loss: 6.7211e-07 - accuracy: 0.0148 - val_loss: 6.6739e-07 - val_accuracy: 0.0147\n",
      "Epoch 30/80\n",
      "3516/3516 [==============================] - 18s 5ms/step - loss: 6.5493e-07 - accuracy: 0.0148 - val_loss: 2.2622e-07 - val_accuracy: 0.0147\n",
      "Epoch 31/80\n",
      "3516/3516 [==============================] - 19s 5ms/step - loss: 6.6581e-07 - accuracy: 0.0148 - val_loss: 4.5822e-07 - val_accuracy: 0.0147\n",
      "Epoch 32/80\n",
      "3516/3516 [==============================] - 20s 6ms/step - loss: 6.3364e-07 - accuracy: 0.0148 - val_loss: 2.1851e-07 - val_accuracy: 0.0147\n",
      "Epoch 33/80\n",
      "3516/3516 [==============================] - 19s 5ms/step - loss: 6.5819e-07 - accuracy: 0.0148 - val_loss: 1.1708e-06 - val_accuracy: 0.0147\n",
      "Epoch 34/80\n",
      "3516/3516 [==============================] - 19s 5ms/step - loss: 6.0809e-07 - accuracy: 0.0148 - val_loss: 5.7778e-07 - val_accuracy: 0.0147\n",
      "Epoch 35/80\n",
      "3516/3516 [==============================] - 19s 5ms/step - loss: 6.2245e-07 - accuracy: 0.0148 - val_loss: 1.8953e-07 - val_accuracy: 0.0147\n",
      "Epoch 36/80\n",
      "3516/3516 [==============================] - 19s 5ms/step - loss: 5.9422e-07 - accuracy: 0.0148 - val_loss: 3.2296e-07 - val_accuracy: 0.0147\n",
      "Epoch 37/80\n",
      "3516/3516 [==============================] - 20s 6ms/step - loss: 5.8948e-07 - accuracy: 0.0148 - val_loss: 1.9483e-07 - val_accuracy: 0.0147\n",
      "Epoch 38/80\n",
      "3516/3516 [==============================] - 19s 5ms/step - loss: 5.7835e-07 - accuracy: 0.0148 - val_loss: 1.1195e-06 - val_accuracy: 0.0147\n",
      "Epoch 39/80\n",
      "3516/3516 [==============================] - 19s 5ms/step - loss: 5.7790e-07 - accuracy: 0.0148 - val_loss: 4.4257e-07 - val_accuracy: 0.0147\n",
      "Epoch 40/80\n",
      "3516/3516 [==============================] - 18s 5ms/step - loss: 5.6668e-07 - accuracy: 0.0148 - val_loss: 1.0650e-06 - val_accuracy: 0.0147\n",
      "Epoch 41/80\n",
      "3516/3516 [==============================] - 18s 5ms/step - loss: 5.6467e-07 - accuracy: 0.0148 - val_loss: 2.9091e-07 - val_accuracy: 0.0147\n",
      "Epoch 42/80\n",
      "3516/3516 [==============================] - 18s 5ms/step - loss: 5.4797e-07 - accuracy: 0.0148 - val_loss: 2.5397e-07 - val_accuracy: 0.0147\n",
      "Epoch 43/80\n",
      "3516/3516 [==============================] - 18s 5ms/step - loss: 5.4577e-07 - accuracy: 0.0148 - val_loss: 6.9888e-07 - val_accuracy: 0.0147\n",
      "Epoch 44/80\n",
      "3516/3516 [==============================] - 18s 5ms/step - loss: 5.3766e-07 - accuracy: 0.0148 - val_loss: 3.6952e-07 - val_accuracy: 0.0147\n",
      "Epoch 45/80\n",
      "3516/3516 [==============================] - 18s 5ms/step - loss: 5.2101e-07 - accuracy: 0.0148 - val_loss: 9.0360e-07 - val_accuracy: 0.0147\n",
      "Epoch 46/80\n",
      "3516/3516 [==============================] - 19s 5ms/step - loss: 5.3065e-07 - accuracy: 0.0148 - val_loss: 1.5622e-07 - val_accuracy: 0.0147\n",
      "Epoch 47/80\n",
      "3516/3516 [==============================] - 18s 5ms/step - loss: 5.2522e-07 - accuracy: 0.0148 - val_loss: 2.8557e-07 - val_accuracy: 0.0147\n",
      "Epoch 48/80\n",
      "3516/3516 [==============================] - 18s 5ms/step - loss: 4.9731e-07 - accuracy: 0.0148 - val_loss: 2.0166e-07 - val_accuracy: 0.0147\n",
      "Epoch 49/80\n",
      "3516/3516 [==============================] - 18s 5ms/step - loss: 5.0504e-07 - accuracy: 0.0148 - val_loss: 5.7848e-07 - val_accuracy: 0.0147\n",
      "Epoch 50/80\n",
      "3516/3516 [==============================] - 19s 5ms/step - loss: 4.9374e-07 - accuracy: 0.0148 - val_loss: 4.8156e-07 - val_accuracy: 0.0147\n",
      "Epoch 51/80\n",
      "3516/3516 [==============================] - 18s 5ms/step - loss: 4.8800e-07 - accuracy: 0.0148 - val_loss: 4.5565e-07 - val_accuracy: 0.0147\n",
      "Epoch 52/80\n",
      "3516/3516 [==============================] - 18s 5ms/step - loss: 4.8010e-07 - accuracy: 0.0148 - val_loss: 6.9728e-07 - val_accuracy: 0.0147\n",
      "Epoch 53/80\n",
      "3516/3516 [==============================] - 18s 5ms/step - loss: 4.7475e-07 - accuracy: 0.0148 - val_loss: 4.6822e-07 - val_accuracy: 0.0147\n",
      "Epoch 54/80\n",
      "3516/3516 [==============================] - 18s 5ms/step - loss: 4.7205e-07 - accuracy: 0.0148 - val_loss: 1.5958e-07 - val_accuracy: 0.0147\n",
      "Epoch 55/80\n",
      "3516/3516 [==============================] - 18s 5ms/step - loss: 4.5973e-07 - accuracy: 0.0148 - val_loss: 8.9649e-07 - val_accuracy: 0.0147\n",
      "Epoch 56/80\n",
      "3516/3516 [==============================] - 18s 5ms/step - loss: 4.5612e-07 - accuracy: 0.0148 - val_loss: 2.2854e-06 - val_accuracy: 0.0147\n",
      "Epoch 57/80\n",
      "3516/3516 [==============================] - 19s 5ms/step - loss: 4.4903e-07 - accuracy: 0.0148 - val_loss: 1.9738e-07 - val_accuracy: 0.0147\n",
      "Epoch 58/80\n",
      "3516/3516 [==============================] - 18s 5ms/step - loss: 4.5231e-07 - accuracy: 0.0148 - val_loss: 4.9020e-07 - val_accuracy: 0.0147\n",
      "Epoch 59/80\n",
      "3516/3516 [==============================] - 18s 5ms/step - loss: 4.3418e-07 - accuracy: 0.0148 - val_loss: 6.2374e-07 - val_accuracy: 0.0147\n",
      "Epoch 60/80\n",
      "3516/3516 [==============================] - 18s 5ms/step - loss: 4.3486e-07 - accuracy: 0.0148 - val_loss: 8.0419e-07 - val_accuracy: 0.0147\n",
      "Epoch 61/80\n",
      "3516/3516 [==============================] - 19s 5ms/step - loss: 4.3686e-07 - accuracy: 0.0148 - val_loss: 3.4294e-07 - val_accuracy: 0.0147\n",
      "Epoch 62/80\n",
      "3516/3516 [==============================] - 18s 5ms/step - loss: 4.2229e-07 - accuracy: 0.0148 - val_loss: 2.9584e-07 - val_accuracy: 0.0147\n",
      "Epoch 63/80\n",
      "3516/3516 [==============================] - 18s 5ms/step - loss: 4.2491e-07 - accuracy: 0.0148 - val_loss: 7.1313e-07 - val_accuracy: 0.0147\n",
      "Epoch 64/80\n",
      "3516/3516 [==============================] - 19s 5ms/step - loss: 4.0855e-07 - accuracy: 0.0148 - val_loss: 3.2513e-07 - val_accuracy: 0.0147\n",
      "Epoch 65/80\n",
      "3516/3516 [==============================] - 20s 6ms/step - loss: 4.0836e-07 - accuracy: 0.0148 - val_loss: 3.8499e-07 - val_accuracy: 0.0147\n",
      "Epoch 66/80\n",
      "3516/3516 [==============================] - 20s 6ms/step - loss: 4.0652e-07 - accuracy: 0.0148 - val_loss: 1.1955e-06 - val_accuracy: 0.0147\n",
      "Epoch 67/80\n",
      "3516/3516 [==============================] - 20s 6ms/step - loss: 4.0247e-07 - accuracy: 0.0148 - val_loss: 1.6232e-07 - val_accuracy: 0.0147\n",
      "Epoch 68/80\n",
      "3516/3516 [==============================] - 22s 6ms/step - loss: 3.9009e-07 - accuracy: 0.0148 - val_loss: 5.4644e-07 - val_accuracy: 0.0147\n",
      "Epoch 69/80\n",
      "3516/3516 [==============================] - 20s 6ms/step - loss: 3.9689e-07 - accuracy: 0.0148 - val_loss: 3.2413e-07 - val_accuracy: 0.0147\n",
      "Epoch 70/80\n",
      "3516/3516 [==============================] - 18s 5ms/step - loss: 3.9404e-07 - accuracy: 0.0148 - val_loss: 2.5121e-07 - val_accuracy: 0.0147\n",
      "Epoch 71/80\n",
      "3516/3516 [==============================] - 18s 5ms/step - loss: 3.8511e-07 - accuracy: 0.0148 - val_loss: 8.8735e-07 - val_accuracy: 0.0147\n",
      "Epoch 72/80\n",
      "3516/3516 [==============================] - 18s 5ms/step - loss: 3.6980e-07 - accuracy: 0.0148 - val_loss: 1.7331e-07 - val_accuracy: 0.0147\n",
      "Epoch 73/80\n",
      "3516/3516 [==============================] - 18s 5ms/step - loss: 3.7393e-07 - accuracy: 0.0148 - val_loss: 3.6520e-07 - val_accuracy: 0.0147\n",
      "Epoch 74/80\n",
      "3516/3516 [==============================] - 19s 5ms/step - loss: 3.7509e-07 - accuracy: 0.0148 - val_loss: 2.7141e-07 - val_accuracy: 0.0147\n",
      "Epoch 75/80\n",
      "3516/3516 [==============================] - 18s 5ms/step - loss: 3.6775e-07 - accuracy: 0.0148 - val_loss: 1.1232e-07 - val_accuracy: 0.0147\n",
      "Epoch 76/80\n",
      "3516/3516 [==============================] - 18s 5ms/step - loss: 3.6562e-07 - accuracy: 0.0148 - val_loss: 1.4584e-07 - val_accuracy: 0.0147\n",
      "Epoch 77/80\n",
      "3516/3516 [==============================] - 18s 5ms/step - loss: 3.6211e-07 - accuracy: 0.0148 - val_loss: 3.2365e-07 - val_accuracy: 0.0147\n",
      "Epoch 78/80\n",
      "3516/3516 [==============================] - 18s 5ms/step - loss: 3.5422e-07 - accuracy: 0.0148 - val_loss: 1.8841e-07 - val_accuracy: 0.0147\n",
      "Epoch 79/80\n",
      "3516/3516 [==============================] - 21s 6ms/step - loss: 3.5121e-07 - accuracy: 0.0148 - val_loss: 1.5377e-07 - val_accuracy: 0.0147\n",
      "Epoch 80/80\n",
      "3516/3516 [==============================] - 19s 5ms/step - loss: 3.5154e-07 - accuracy: 0.0148 - val_loss: 1.3769e-07 - val_accuracy: 0.0147\n"
     ]
    }
   ],
   "source": [
    "BShistorynew = BSmodelnew.fit(X_train_BS, y_train_BS, epochs = 80, batch_size = 512, validation_data=(X_valid_BS, y_valid_BS))"
   ]
  },
  {
   "cell_type": "code",
   "execution_count": 7,
   "metadata": {},
   "outputs": [
    {
     "data": {
      "image/png": "[encoded data removed]",
      "text/plain": [
       "<Figure size 576x360 with 1 Axes>"
      ]
     },
     "metadata": {
      "needs_background": "light"
     },
     "output_type": "display_data"
    }
   ],
   "source": [
    "############################################################################################################################\n",
    "#     fit() method returns a History object containing the training parameters(history.params), the list of epochs it went #\n",
    "# through(history.epochs), and most importantly a dictionary (history.history), containing the loss and extra metrics it   #\n",
    "# measured at the end of each epoch on the training set and on the validation set (if any). if  you  use this dictionary   #\n",
    "# to create a pandas DataFrame and call its plot() method, you get the learning curves                                     #\n",
    "############################################################################################################################\n",
    "\n",
    "pd1 = pd.DataFrame(BShistorynew.history)\n",
    "pd1.to_csv('BShistorynew.csv')\n",
    "pd1.plot(figsize=(8, 5))\n",
    "plt.grid(True)\n",
    "plt.gca().set_ylim(0, 0.00001) # set the vertical range to [0-1]\n",
    "plt.title('BSlearningCurvenew')\n",
    "plt.show()"
   ]
  },
  {
   "cell_type": "code",
   "execution_count": 8,
   "metadata": {},
   "outputs": [],
   "source": [
    "pd1   = pd.read_csv('BShistory1.csv')\n",
    "pd2   = pd.read_csv('BShistory2.csv')\n",
    "pd3   = pd.read_csv('BShistory3.csv')\n",
    "pdnew = pd.read_csv('BShistorynew.csv') "
   ]
  },
  {
   "cell_type": "code",
   "execution_count": 9,
   "metadata": {},
   "outputs": [
    {
     "data": {
      "image/png": "[encoded data removed]",
      "text/plain": [
       "<Figure size 432x288 with 1 Axes>"
      ]
     },
     "metadata": {
      "needs_background": "light"
     },
     "output_type": "display_data"
    }
   ],
   "source": [
    "plt.plot(np.log(pd1[\"loss\"]), \"r\", label = \"rank1\")\n",
    "plt.plot(np.log(pd2[\"loss\"]), \"g\", label = \"rank2\")\n",
    "plt.plot(np.log(pd3[\"loss\"]), \"b\", label = \"rank3\")\n",
    "plt.plot(np.log(pdnew[\"loss\"]), \"y\", label = \"new\")\n",
    "\n",
    "plt.grid(True)\n",
    "plt.ylabel('log(MSE)')\n",
    "plt.legend(loc = \"upper right\")\n",
    "plt.title('BSlearningCurveAll')\n",
    "plt.show()"
   ]
  },
  {
   "cell_type": "code",
   "execution_count": 10,
   "metadata": {},
   "outputs": [],
   "source": [
    "BSmodelnew.save(\"BSmodelnew.h5\")"
   ]
  },
  {
   "cell_type": "code",
   "execution_count": 11,
   "metadata": {},
   "outputs": [],
   "source": [
    "############\n",
    "#EVALUATION#\n",
    "############"
   ]
  },
  {
   "cell_type": "code",
   "execution_count": 12,
   "metadata": {},
   "outputs": [
    {
     "data": {
      "text/html": [
       "<div>\n",
       "<style scoped>\n",
       "    .dataframe tbody tr th:only-of-type {\n",
       "        vertical-align: middle;\n",
       "    }\n",
       "\n",
       "    .dataframe tbody tr th {\n",
       "        vertical-align: top;\n",
       "    }\n",
       "\n",
       "    .dataframe thead th {\n",
       "        text-align: right;\n",
       "    }\n",
       "</style>\n",
       "<table border=\"1\" class=\"dataframe\">\n",
       "  <thead>\n",
       "    <tr style=\"text-align: right;\">\n",
       "      <th></th>\n",
       "      <th>mns</th>\n",
       "      <th>tau</th>\n",
       "      <th>r</th>\n",
       "      <th>sigma</th>\n",
       "      <th>V/K</th>\n",
       "    </tr>\n",
       "  </thead>\n",
       "  <tbody>\n",
       "    <tr>\n",
       "      <th>0</th>\n",
       "      <td>1.590163</td>\n",
       "      <td>0.888092</td>\n",
       "      <td>0.054842</td>\n",
       "      <td>0.262597</td>\n",
       "      <td>0.639821</td>\n",
       "    </tr>\n",
       "    <tr>\n",
       "      <th>1</th>\n",
       "      <td>1.385022</td>\n",
       "      <td>0.959522</td>\n",
       "      <td>0.082605</td>\n",
       "      <td>0.165499</td>\n",
       "      <td>0.461592</td>\n",
       "    </tr>\n",
       "    <tr>\n",
       "      <th>2</th>\n",
       "      <td>0.436090</td>\n",
       "      <td>0.415409</td>\n",
       "      <td>0.021017</td>\n",
       "      <td>0.417887</td>\n",
       "      <td>0.000056</td>\n",
       "    </tr>\n",
       "    <tr>\n",
       "      <th>3</th>\n",
       "      <td>0.897337</td>\n",
       "      <td>0.386878</td>\n",
       "      <td>0.092519</td>\n",
       "      <td>0.675848</td>\n",
       "      <td>0.123521</td>\n",
       "    </tr>\n",
       "    <tr>\n",
       "      <th>4</th>\n",
       "      <td>0.678262</td>\n",
       "      <td>0.947873</td>\n",
       "      <td>0.096074</td>\n",
       "      <td>0.157999</td>\n",
       "      <td>0.001229</td>\n",
       "    </tr>\n",
       "  </tbody>\n",
       "</table>\n",
       "</div>"
      ],
      "text/plain": [
       "        mns       tau         r     sigma       V/K\n",
       "0  1.590163  0.888092  0.054842  0.262597  0.639821\n",
       "1  1.385022  0.959522  0.082605  0.165499  0.461592\n",
       "2  0.436090  0.415409  0.021017  0.417887  0.000056\n",
       "3  0.897337  0.386878  0.092519  0.675848  0.123521\n",
       "4  0.678262  0.947873  0.096074  0.157999  0.001229"
      ]
     },
     "execution_count": 12,
     "metadata": {},
     "output_type": "execute_result"
    }
   ],
   "source": [
    "pd_BS = pd.read_csv(r'C:\\Users\\Γιώργος\\Desktop\\THESIS\\PYTHON\\DATA\\BsTest.csv')\n",
    "X = pd_BS.to_numpy()\n",
    "\n",
    "inputs_BS = np.array(X[:,:4])\n",
    "outputs_BS = np.array(X[:,4])\n",
    "pd_BS.head()"
   ]
  },
  {
   "cell_type": "code",
   "execution_count": 13,
   "metadata": {},
   "outputs": [
    {
     "name": "stdout",
     "output_type": "stream",
     "text": [
      "6250/6250 [==============================] - 11s 2ms/step - loss: 1.3663e-07 - accuracy: 0.0148\n",
      "mean square error from rank1 ANN : 1.366272215364006e-07\n"
     ]
    }
   ],
   "source": [
    "BSresults_new = BSmodelnew.evaluate(inputs_BS, outputs_BS)\n",
    "\n",
    "print(\"mean square error from rank1 ANN :\", BSresults_new[0])\n"
   ]
  },
  {
   "cell_type": "code",
   "execution_count": null,
   "metadata": {},
   "outputs": [],
   "source": []
  }
 ],
 "metadata": {
  "kernelspec": {
   "display_name": "Python 3",
   "language": "python",
   "name": "python3"
  },
  "language_info": {
   "codemirror_mode": {
    "name": "ipython",
    "version": 3
   },
   "file_extension": ".py",
   "mimetype": "text/x-python",
   "name": "python",
   "nbconvert_exporter": "python",
   "pygments_lexer": "ipython3",
   "version": "3.7.3"
  }
 },
 "nbformat": 4,
 "nbformat_minor": 2
}
