{
 "cells": [
  {
   "cell_type": "code",
   "execution_count": 17,
   "metadata": {},
   "outputs": [],
   "source": [
    "#########################################################################################################################\n",
    "################################## R  B   F     NEURAL NETWORKS #########################################################\n",
    "#########################################################################################################################"
   ]
  },
  {
   "cell_type": "code",
   "execution_count": 18,
   "metadata": {},
   "outputs": [],
   "source": [
    "\n",
    "import tensorflow as tf\n",
    "from tensorflow.keras.layers import Layer\n",
    "from tensorflow.keras.initializers import RandomUniform, Initializer, Constant\n",
    "import numpy as np\n",
    "import pandas as pd\n",
    "\n",
    "class InitCentersRandom(Initializer):\n",
    "    \"\"\" Initializer for initialization of centers of RBF network\n",
    "        as random samples from the given data set.\n",
    "    # Arguments\n",
    "        X: matrix, dataset to choose the centers from (random rows\n",
    "          are taken as centers)\n",
    "    \"\"\"\n",
    "\n",
    "    def __init__(self, X):\n",
    "        self.X = X\n",
    "        super().__init__()\n",
    "\n",
    "    def __call__(self, shape, dtype=None):\n",
    "        assert shape[1:] == self.X.shape[1:]  # check dimension\n",
    "\n",
    "        # np.random.randint returns ints from [low, high) !\n",
    "        idx = np.random.randint(self.X.shape[0], size=shape[0])\n",
    "\n",
    "        return self.X[idx, :]\n",
    "\n",
    "\n",
    "class RBFLayer(Layer):\n",
    "    \"\"\" Layer of Gaussian RBF units.\n",
    "    # Example\n",
    "    ```python\n",
    "        model = Sequential()\n",
    "        model.add(RBFLayer(10,\n",
    "                           initializer=InitCentersRandom(X),\n",
    "                           betas=1.0,\n",
    "                           input_shape=(1,)))\n",
    "        model.add(Dense(1))\n",
    "    ```\n",
    "    # Arguments\n",
    "        output_dim: number of hidden units (i.e. number of outputs of the\n",
    "                    layer)\n",
    "        initializer: instance of initiliazer to initialize centers\n",
    "        betas: float, initial value for betas\n",
    "    \"\"\"\n",
    "\n",
    "    def __init__(self, output_dim, initializer=tf.keras.initializers.glorot_uniform(), betas=1.0, **kwargs):\n",
    "\n",
    "        self.output_dim = output_dim\n",
    "\n",
    "        # betas is either initializer object or float\n",
    "        if isinstance(betas, Initializer):\n",
    "            self.betas_initializer = betas\n",
    "        else:\n",
    "            self.betas_initializer = Constant(value=betas)\n",
    "\n",
    "        self.initializer = initializer if initializer else RandomUniform(\n",
    "            0.0, 1.0)\n",
    "\n",
    "        super().__init__(**kwargs)\n",
    "\n",
    "    def build(self, input_shape):\n",
    "\n",
    "        self.centers = self.add_weight(name='centers',\n",
    "                                       shape=(self.output_dim, input_shape[1]),\n",
    "                                       initializer=self.initializer,\n",
    "                                       trainable=True)\n",
    "        self.betas = self.add_weight(name='betas',\n",
    "                                     shape=(self.output_dim,),\n",
    "                                     initializer=self.betas_initializer,\n",
    "                                     # initializer='ones',\n",
    "                                     trainable=True)\n",
    "\n",
    "        super().build(input_shape)\n",
    "\n",
    "    def call(self, x):\n",
    "\n",
    "        C = tf.expand_dims(self.centers, -1)  # inserts a dimension of 1\n",
    "        H = tf.transpose(C-tf.transpose(x))  # matrix of differences\n",
    "        return tf.exp(-self.betas * tf.math.reduce_sum(H**2, axis=1))\n",
    "\n",
    "    def compute_output_shape(self, input_shape):\n",
    "        return (input_shape[0], self.output_dim)\n",
    "\n",
    "    def get_config(self):\n",
    "        # have to define get_config to be able to use model_from_json\n",
    "        config = {\n",
    "            'output_dim': self.output_dim\n",
    "        }\n",
    "        base_config = super().get_config()\n",
    "        return dict(list(base_config.items()) + list(config.items()))\n"
   ]
  },
  {
   "cell_type": "code",
   "execution_count": 19,
   "metadata": {},
   "outputs": [],
   "source": [
    "from tensorflow import keras\n",
    "from tensorflow.keras.models import Sequential, load_model\n",
    "from tensorflow.keras.layers import Dense\n",
    "from tensorflow.keras.optimizers import RMSprop\n",
    "from tensorflow.keras.losses import MSE\n",
    "\n",
    "def build_RBFmodel(units, learning_rate=3e-3, input_shape=(4,)):\n",
    "    model = Sequential()\n",
    "    rbflayer = RBFLayer(units,\n",
    "                        initializer=None,\n",
    "                        betas=2.0,\n",
    "                        input_shape=input_shape)\n",
    "    outputlayer = Dense(1, use_bias=False)\n",
    "\n",
    "    model.add(rbflayer)\n",
    "    model.add(outputlayer)\n",
    "\n",
    "    optimizer = keras.optimizers.Adam(lr=learning_rate)\n",
    "    model.compile(loss=\"mean_squared_error\", metrics = \"accuracy\", optimizer=optimizer)\n",
    "\n",
    "    return model"
   ]
  },
  {
   "cell_type": "code",
   "execution_count": 20,
   "metadata": {},
   "outputs": [],
   "source": [
    "def build_model(n_hidden=6, n_neurons=200, learning_rate=3e-3, activationFn = \"relu\", input_shape=[4]):\n",
    "    model = keras.models.Sequential()\n",
    "    model.add(keras.layers.InputLayer(input_shape=input_shape))\n",
    "    for layer in range(n_hidden):\n",
    "        model.add(keras.layers.Dense(n_neurons, activation=activationFn, kernel_initializer='glorot_uniform',bias_initializer='zeros'))\n",
    "    model.add(keras.layers.Dense(1, activation = activationFn))      # No activation function in output layer \n",
    "    optimizer = keras.optimizers.Adam(lr=learning_rate)\n",
    "    model.compile(loss=\"mean_squared_error\", metrics = \"accuracy\", optimizer=optimizer)\n",
    "    return model"
   ]
  },
  {
   "cell_type": "code",
   "execution_count": 27,
   "metadata": {},
   "outputs": [
    {
     "name": "stdout",
     "output_type": "stream",
     "text": [
      "Model: \"sequential_10\"\n",
      "_________________________________________________________________\n",
      "Layer (type)                 Output Shape              Param #   \n",
      "=================================================================\n",
      "rbf_layer_5 (RBFLayer)       (None, 500)               2500      \n",
      "_________________________________________________________________\n",
      "dense_17 (Dense)             (None, 1)                 500       \n",
      "=================================================================\n",
      "Total params: 3,000\n",
      "Trainable params: 3,000\n",
      "Non-trainable params: 0\n",
      "_________________________________________________________________\n"
     ]
    }
   ],
   "source": [
    "myRBFmodel = build_RBFmodel(500)\n",
    "myRBFmodel.summary()"
   ]
  },
  {
   "cell_type": "code",
   "execution_count": 28,
   "metadata": {
    "scrolled": true
   },
   "outputs": [
    {
     "name": "stdout",
     "output_type": "stream",
     "text": [
      "Model: \"sequential_11\"\n",
      "_________________________________________________________________\n",
      "Layer (type)                 Output Shape              Param #   \n",
      "=================================================================\n",
      "dense_18 (Dense)             (None, 50)                250       \n",
      "_________________________________________________________________\n",
      "dense_19 (Dense)             (None, 50)                2550      \n",
      "_________________________________________________________________\n",
      "dense_20 (Dense)             (None, 1)                 51        \n",
      "=================================================================\n",
      "Total params: 2,851\n",
      "Trainable params: 2,851\n",
      "Non-trainable params: 0\n",
      "_________________________________________________________________\n"
     ]
    }
   ],
   "source": [
    "mymodel1 = build_model(2, 50)\n",
    "mymodel1.summary()"
   ]
  },
  {
   "cell_type": "code",
   "execution_count": 29,
   "metadata": {},
   "outputs": [
    {
     "data": {
      "text/html": [
       "<div>\n",
       "<style scoped>\n",
       "    .dataframe tbody tr th:only-of-type {\n",
       "        vertical-align: middle;\n",
       "    }\n",
       "\n",
       "    .dataframe tbody tr th {\n",
       "        vertical-align: top;\n",
       "    }\n",
       "\n",
       "    .dataframe thead th {\n",
       "        text-align: right;\n",
       "    }\n",
       "</style>\n",
       "<table border=\"1\" class=\"dataframe\">\n",
       "  <thead>\n",
       "    <tr style=\"text-align: right;\">\n",
       "      <th></th>\n",
       "      <th>mns</th>\n",
       "      <th>tau</th>\n",
       "      <th>r</th>\n",
       "      <th>sigma</th>\n",
       "      <th>V/K</th>\n",
       "    </tr>\n",
       "  </thead>\n",
       "  <tbody>\n",
       "    <tr>\n",
       "      <th>0</th>\n",
       "      <td>0.592725</td>\n",
       "      <td>0.577882</td>\n",
       "      <td>0.060886</td>\n",
       "      <td>0.612360</td>\n",
       "      <td>0.026292</td>\n",
       "    </tr>\n",
       "    <tr>\n",
       "      <th>1</th>\n",
       "      <td>1.581379</td>\n",
       "      <td>0.553633</td>\n",
       "      <td>0.043828</td>\n",
       "      <td>0.622359</td>\n",
       "      <td>0.648810</td>\n",
       "    </tr>\n",
       "    <tr>\n",
       "      <th>2</th>\n",
       "      <td>0.635764</td>\n",
       "      <td>0.310517</td>\n",
       "      <td>0.032638</td>\n",
       "      <td>0.951619</td>\n",
       "      <td>0.046535</td>\n",
       "    </tr>\n",
       "    <tr>\n",
       "      <th>3</th>\n",
       "      <td>0.785130</td>\n",
       "      <td>0.264107</td>\n",
       "      <td>0.065091</td>\n",
       "      <td>0.154104</td>\n",
       "      <td>0.000047</td>\n",
       "    </tr>\n",
       "    <tr>\n",
       "      <th>4</th>\n",
       "      <td>0.536041</td>\n",
       "      <td>0.776493</td>\n",
       "      <td>0.021986</td>\n",
       "      <td>0.187089</td>\n",
       "      <td>0.000003</td>\n",
       "    </tr>\n",
       "  </tbody>\n",
       "</table>\n",
       "</div>"
      ],
      "text/plain": [
       "        mns       tau         r     sigma       V/K\n",
       "0  0.592725  0.577882  0.060886  0.612360  0.026292\n",
       "1  1.581379  0.553633  0.043828  0.622359  0.648810\n",
       "2  0.635764  0.310517  0.032638  0.951619  0.046535\n",
       "3  0.785130  0.264107  0.065091  0.154104  0.000047\n",
       "4  0.536041  0.776493  0.021986  0.187089  0.000003"
      ]
     },
     "execution_count": 29,
     "metadata": {},
     "output_type": "execute_result"
    }
   ],
   "source": [
    "pd_BS = pd.read_csv(r'C:\\Users\\Γιώργος\\Desktop\\THESIS\\PYTHON\\DATA\\BsTraining.csv')\n",
    "X = pd_BS.to_numpy()\n",
    "\n",
    "Xtrain = np.array(X[:,:4])\n",
    "ytrain = np.array(X[:,4])\n",
    "pd_BS.head()"
   ]
  },
  {
   "cell_type": "code",
   "execution_count": 30,
   "metadata": {
    "scrolled": true
   },
   "outputs": [
    {
     "name": "stdout",
     "output_type": "stream",
     "text": [
      "Epoch 1/80\n",
      "3516/3516 [==============================] - 8s 2ms/step - loss: 2.2351e-04 - accuracy: 0.0148 - val_loss: 4.9266e-05 - val_accuracy: 0.0148\n",
      "Epoch 2/80\n",
      "3516/3516 [==============================] - 7s 2ms/step - loss: 1.4208e-05 - accuracy: 0.0148 - val_loss: 4.0743e-06 - val_accuracy: 0.0148\n",
      "Epoch 3/80\n",
      "3516/3516 [==============================] - 7s 2ms/step - loss: 9.6182e-06 - accuracy: 0.0148 - val_loss: 1.1766e-05 - val_accuracy: 0.0148\n",
      "Epoch 4/80\n",
      "3516/3516 [==============================] - 9s 3ms/step - loss: 6.9559e-06 - accuracy: 0.0148 - val_loss: 1.7359e-06 - val_accuracy: 0.0148\n",
      "Epoch 5/80\n",
      "3516/3516 [==============================] - 7s 2ms/step - loss: 5.6973e-06 - accuracy: 0.0148 - val_loss: 1.2288e-06 - val_accuracy: 0.0148\n",
      "Epoch 6/80\n",
      "3516/3516 [==============================] - 7s 2ms/step - loss: 5.2148e-06 - accuracy: 0.0148 - val_loss: 1.6500e-06 - val_accuracy: 0.0148\n",
      "Epoch 7/80\n",
      "3516/3516 [==============================] - 7s 2ms/step - loss: 4.3040e-06 - accuracy: 0.0148 - val_loss: 4.9016e-06 - val_accuracy: 0.0148\n",
      "Epoch 8/80\n",
      "3516/3516 [==============================] - 10s 3ms/step - loss: 4.1124e-06 - accuracy: 0.0148 - val_loss: 6.1722e-06 - val_accuracy: 0.0148\n",
      "Epoch 9/80\n",
      "3516/3516 [==============================] - 7s 2ms/step - loss: 3.5292e-06 - accuracy: 0.0148 - val_loss: 7.6290e-07 - val_accuracy: 0.0148\n",
      "Epoch 10/80\n",
      "3516/3516 [==============================] - 7s 2ms/step - loss: 3.3348e-06 - accuracy: 0.0148 - val_loss: 5.7592e-07 - val_accuracy: 0.0148\n",
      "Epoch 11/80\n",
      "3516/3516 [==============================] - 7s 2ms/step - loss: 2.9971e-06 - accuracy: 0.0148 - val_loss: 1.4912e-06 - val_accuracy: 0.0148\n",
      "Epoch 12/80\n",
      "3516/3516 [==============================] - 6s 2ms/step - loss: 2.9423e-06 - accuracy: 0.0148 - val_loss: 6.2678e-07 - val_accuracy: 0.0148\n",
      "Epoch 13/80\n",
      "3516/3516 [==============================] - 7s 2ms/step - loss: 2.8063e-06 - accuracy: 0.0148 - val_loss: 2.4722e-06 - val_accuracy: 0.0148\n",
      "Epoch 14/80\n",
      "3516/3516 [==============================] - 7s 2ms/step - loss: 2.6631e-06 - accuracy: 0.0148 - val_loss: 3.1656e-06 - val_accuracy: 0.0148\n",
      "Epoch 15/80\n",
      "3516/3516 [==============================] - 7s 2ms/step - loss: 2.5086e-06 - accuracy: 0.0148 - val_loss: 5.1367e-06 - val_accuracy: 0.0148\n",
      "Epoch 16/80\n",
      "3516/3516 [==============================] - 8s 2ms/step - loss: 2.5208e-06 - accuracy: 0.0148 - val_loss: 1.3869e-06 - val_accuracy: 0.0148\n",
      "Epoch 17/80\n",
      "3516/3516 [==============================] - 7s 2ms/step - loss: 2.4024e-06 - accuracy: 0.0148 - val_loss: 4.2055e-07 - val_accuracy: 0.0148\n",
      "Epoch 18/80\n",
      "3516/3516 [==============================] - 6s 2ms/step - loss: 2.2010e-06 - accuracy: 0.0148 - val_loss: 3.9323e-07 - val_accuracy: 0.0148\n",
      "Epoch 19/80\n",
      "3516/3516 [==============================] - 7s 2ms/step - loss: 2.1598e-06 - accuracy: 0.0148 - val_loss: 8.1498e-07 - val_accuracy: 0.0148\n",
      "Epoch 20/80\n",
      "3516/3516 [==============================] - 7s 2ms/step - loss: 2.1514e-06 - accuracy: 0.0148 - val_loss: 3.5600e-07 - val_accuracy: 0.0148\n",
      "Epoch 21/80\n",
      "3516/3516 [==============================] - 7s 2ms/step - loss: 2.0391e-06 - accuracy: 0.0148 - val_loss: 1.0974e-06 - val_accuracy: 0.0148\n",
      "Epoch 22/80\n",
      "3516/3516 [==============================] - 8s 2ms/step - loss: 2.1695e-06 - accuracy: 0.0148 - val_loss: 1.1787e-06 - val_accuracy: 0.0148\n",
      "Epoch 23/80\n",
      "3516/3516 [==============================] - 10s 3ms/step - loss: 1.9167e-06 - accuracy: 0.0148 - val_loss: 4.7031e-07 - val_accuracy: 0.0148\n",
      "Epoch 24/80\n",
      "3516/3516 [==============================] - 8s 2ms/step - loss: 2.0854e-06 - accuracy: 0.0148 - val_loss: 3.2445e-07 - val_accuracy: 0.0148\n",
      "Epoch 25/80\n",
      "3516/3516 [==============================] - 9s 2ms/step - loss: 1.7899e-06 - accuracy: 0.0148 - val_loss: 4.1052e-07 - val_accuracy: 0.0148\n",
      "Epoch 26/80\n",
      "3516/3516 [==============================] - 13s 4ms/step - loss: 1.8558e-06 - accuracy: 0.0148 - val_loss: 3.2911e-06 - val_accuracy: 0.0148\n",
      "Epoch 27/80\n",
      "3516/3516 [==============================] - 9s 3ms/step - loss: 1.7920e-06 - accuracy: 0.0148 - val_loss: 2.3958e-06 - val_accuracy: 0.0148\n",
      "Epoch 28/80\n",
      "3516/3516 [==============================] - 9s 3ms/step - loss: 1.8552e-06 - accuracy: 0.0148 - val_loss: 1.2667e-06 - val_accuracy: 0.0148\n",
      "Epoch 29/80\n",
      "3516/3516 [==============================] - 9s 2ms/step - loss: 1.7250e-06 - accuracy: 0.0148 - val_loss: 3.5150e-06 - val_accuracy: 0.0148\n",
      "Epoch 30/80\n",
      "3516/3516 [==============================] - 7s 2ms/step - loss: 1.8046e-06 - accuracy: 0.0148 - val_loss: 4.9841e-07 - val_accuracy: 0.0148\n",
      "Epoch 31/80\n",
      "3516/3516 [==============================] - 7s 2ms/step - loss: 1.6412e-06 - accuracy: 0.0148 - val_loss: 5.9763e-07 - val_accuracy: 0.0148\n",
      "Epoch 32/80\n",
      "3516/3516 [==============================] - 7s 2ms/step - loss: 1.5933e-06 - accuracy: 0.0148 - val_loss: 5.8626e-07 - val_accuracy: 0.0148\n",
      "Epoch 33/80\n",
      "3516/3516 [==============================] - 7s 2ms/step - loss: 1.6985e-06 - accuracy: 0.0148 - val_loss: 9.1224e-07 - val_accuracy: 0.0148\n",
      "Epoch 34/80\n",
      "3516/3516 [==============================] - 8s 2ms/step - loss: 1.5639e-06 - accuracy: 0.0148 - val_loss: 3.7631e-07 - val_accuracy: 0.0148\n",
      "Epoch 35/80\n",
      "3516/3516 [==============================] - 7s 2ms/step - loss: 1.5892e-06 - accuracy: 0.0148 - val_loss: 2.8475e-07 - val_accuracy: 0.0148\n",
      "Epoch 36/80\n",
      "3516/3516 [==============================] - 7s 2ms/step - loss: 1.5940e-06 - accuracy: 0.0148 - val_loss: 2.7259e-07 - val_accuracy: 0.0148\n",
      "Epoch 37/80\n",
      "3516/3516 [==============================] - 7s 2ms/step - loss: 1.5384e-06 - accuracy: 0.0148 - val_loss: 2.8717e-07 - val_accuracy: 0.0148\n",
      "Epoch 38/80\n",
      "3516/3516 [==============================] - 10s 3ms/step - loss: 1.6027e-06 - accuracy: 0.0148 - val_loss: 2.4329e-07 - val_accuracy: 0.0148\n",
      "Epoch 39/80\n",
      "3516/3516 [==============================] - 13s 4ms/step - loss: 1.4114e-06 - accuracy: 0.0148 - val_loss: 4.3827e-07 - val_accuracy: 0.0148\n",
      "Epoch 40/80\n",
      "3516/3516 [==============================] - 14s 4ms/step - loss: 1.4619e-06 - accuracy: 0.0148 - val_loss: 5.7983e-07 - val_accuracy: 0.0148\n",
      "Epoch 41/80\n",
      "3516/3516 [==============================] - 11s 3ms/step - loss: 1.4462e-06 - accuracy: 0.0148 - val_loss: 5.8726e-07 - val_accuracy: 0.0148\n",
      "Epoch 42/80\n",
      "3516/3516 [==============================] - 8s 2ms/step - loss: 1.4308e-06 - accuracy: 0.0148 - val_loss: 3.4166e-07 - val_accuracy: 0.0148\n",
      "Epoch 43/80\n",
      "3516/3516 [==============================] - 8s 2ms/step - loss: 1.4439e-06 - accuracy: 0.0148 - val_loss: 2.1237e-07 - val_accuracy: 0.0148\n",
      "Epoch 44/80\n",
      "3516/3516 [==============================] - 7s 2ms/step - loss: 1.4584e-06 - accuracy: 0.0148 - val_loss: 1.7043e-06 - val_accuracy: 0.0148\n",
      "Epoch 45/80\n",
      "3516/3516 [==============================] - 6s 2ms/step - loss: 1.3826e-06 - accuracy: 0.0148 - val_loss: 2.6828e-07 - val_accuracy: 0.0148\n",
      "Epoch 46/80\n",
      "3516/3516 [==============================] - 7s 2ms/step - loss: 1.3893e-06 - accuracy: 0.0148 - val_loss: 4.2438e-07 - val_accuracy: 0.0148\n",
      "Epoch 47/80\n",
      "3516/3516 [==============================] - 6s 2ms/step - loss: 1.3261e-06 - accuracy: 0.0148 - val_loss: 6.6638e-07 - val_accuracy: 0.0148\n",
      "Epoch 48/80\n",
      "3516/3516 [==============================] - 6s 2ms/step - loss: 1.3298e-06 - accuracy: 0.0148 - val_loss: 4.0785e-07 - val_accuracy: 0.0148\n",
      "Epoch 49/80\n",
      "3516/3516 [==============================] - 6s 2ms/step - loss: 1.3272e-06 - accuracy: 0.0148 - val_loss: 7.7821e-07 - val_accuracy: 0.0148\n",
      "Epoch 50/80\n",
      "3516/3516 [==============================] - 6s 2ms/step - loss: 1.2970e-06 - accuracy: 0.0148 - val_loss: 2.0936e-07 - val_accuracy: 0.0148\n",
      "Epoch 51/80\n",
      "3516/3516 [==============================] - 6s 2ms/step - loss: 1.2754e-06 - accuracy: 0.0148 - val_loss: 2.3625e-07 - val_accuracy: 0.0148\n",
      "Epoch 52/80\n",
      "3516/3516 [==============================] - 6s 2ms/step - loss: 1.2921e-06 - accuracy: 0.0148 - val_loss: 1.4121e-06 - val_accuracy: 0.0148\n",
      "Epoch 53/80\n",
      "3516/3516 [==============================] - 6s 2ms/step - loss: 1.2785e-06 - accuracy: 0.0148 - val_loss: 2.6734e-06 - val_accuracy: 0.0148\n",
      "Epoch 54/80\n",
      "3516/3516 [==============================] - 6s 2ms/step - loss: 1.3248e-06 - accuracy: 0.0148 - val_loss: 2.1205e-07 - val_accuracy: 0.0148\n",
      "Epoch 55/80\n",
      "3516/3516 [==============================] - 6s 2ms/step - loss: 1.2714e-06 - accuracy: 0.0148 - val_loss: 3.5064e-07 - val_accuracy: 0.0148\n",
      "Epoch 56/80\n",
      "3516/3516 [==============================] - 6s 2ms/step - loss: 1.2540e-06 - accuracy: 0.0148 - val_loss: 3.6066e-07 - val_accuracy: 0.0148\n",
      "Epoch 57/80\n",
      "3516/3516 [==============================] - 6s 2ms/step - loss: 1.1896e-06 - accuracy: 0.0148 - val_loss: 4.8573e-06 - val_accuracy: 0.0148\n",
      "Epoch 58/80\n",
      "3516/3516 [==============================] - 6s 2ms/step - loss: 1.1947e-06 - accuracy: 0.0148 - val_loss: 7.2708e-06 - val_accuracy: 0.0148\n",
      "Epoch 59/80\n",
      "3516/3516 [==============================] - 6s 2ms/step - loss: 1.1864e-06 - accuracy: 0.0148 - val_loss: 3.1356e-07 - val_accuracy: 0.0148\n",
      "Epoch 60/80\n",
      "3516/3516 [==============================] - 6s 2ms/step - loss: 1.2002e-06 - accuracy: 0.0148 - val_loss: 2.6197e-07 - val_accuracy: 0.0148\n",
      "Epoch 61/80\n",
      "3516/3516 [==============================] - 6s 2ms/step - loss: 1.1640e-06 - accuracy: 0.0148 - val_loss: 2.5430e-06 - val_accuracy: 0.0148\n",
      "Epoch 62/80\n",
      "3516/3516 [==============================] - 6s 2ms/step - loss: 1.1645e-06 - accuracy: 0.0148 - val_loss: 1.2535e-06 - val_accuracy: 0.0148\n",
      "Epoch 63/80\n",
      "3516/3516 [==============================] - 7s 2ms/step - loss: 1.1544e-06 - accuracy: 0.0148 - val_loss: 2.7026e-07 - val_accuracy: 0.0148\n",
      "Epoch 64/80\n",
      "3516/3516 [==============================] - 6s 2ms/step - loss: 1.0770e-06 - accuracy: 0.0148 - val_loss: 1.4071e-06 - val_accuracy: 0.0148\n",
      "Epoch 65/80\n",
      "3516/3516 [==============================] - 7s 2ms/step - loss: 1.1725e-06 - accuracy: 0.0148 - val_loss: 2.0823e-07 - val_accuracy: 0.0148\n",
      "Epoch 66/80\n",
      "3516/3516 [==============================] - 8s 2ms/step - loss: 1.0149e-06 - accuracy: 0.0148 - val_loss: 2.7754e-07 - val_accuracy: 0.0148\n",
      "Epoch 67/80\n",
      "3516/3516 [==============================] - 6s 2ms/step - loss: 1.0640e-06 - accuracy: 0.0148 - val_loss: 4.2794e-06 - val_accuracy: 0.0148\n",
      "Epoch 68/80\n",
      "3516/3516 [==============================] - 6s 2ms/step - loss: 1.0508e-06 - accuracy: 0.0148 - val_loss: 4.1137e-07 - val_accuracy: 0.0148\n",
      "Epoch 69/80\n",
      "3516/3516 [==============================] - 6s 2ms/step - loss: 1.0557e-06 - accuracy: 0.0148 - val_loss: 8.3270e-07 - val_accuracy: 0.0148\n",
      "Epoch 70/80\n",
      "3516/3516 [==============================] - 6s 2ms/step - loss: 1.1002e-06 - accuracy: 0.0148 - val_loss: 1.8912e-07 - val_accuracy: 0.0148\n",
      "Epoch 71/80\n",
      "3516/3516 [==============================] - 6s 2ms/step - loss: 1.0977e-06 - accuracy: 0.0148 - val_loss: 2.2756e-07 - val_accuracy: 0.0148\n",
      "Epoch 72/80\n",
      "3516/3516 [==============================] - 6s 2ms/step - loss: 9.9387e-07 - accuracy: 0.0148 - val_loss: 1.7804e-07 - val_accuracy: 0.0148\n",
      "Epoch 73/80\n",
      "3516/3516 [==============================] - 6s 2ms/step - loss: 1.0055e-06 - accuracy: 0.0148 - val_loss: 5.3576e-07 - val_accuracy: 0.0148\n",
      "Epoch 74/80\n",
      "3516/3516 [==============================] - 6s 2ms/step - loss: 9.6463e-07 - accuracy: 0.0148 - val_loss: 2.8692e-07 - val_accuracy: 0.0148\n",
      "Epoch 75/80\n",
      "3516/3516 [==============================] - 6s 2ms/step - loss: 1.0243e-06 - accuracy: 0.0148 - val_loss: 3.8374e-07 - val_accuracy: 0.0148\n",
      "Epoch 76/80\n",
      "3516/3516 [==============================] - 7s 2ms/step - loss: 9.9706e-07 - accuracy: 0.0148 - val_loss: 1.8630e-07 - val_accuracy: 0.0148\n",
      "Epoch 77/80\n",
      "3516/3516 [==============================] - 7s 2ms/step - loss: 9.7325e-07 - accuracy: 0.0148 - val_loss: 2.2099e-07 - val_accuracy: 0.0148\n",
      "Epoch 78/80\n",
      "3516/3516 [==============================] - 7s 2ms/step - loss: 9.6039e-07 - accuracy: 0.0148 - val_loss: 2.1625e-07 - val_accuracy: 0.0148\n",
      "Epoch 79/80\n",
      "3516/3516 [==============================] - 6s 2ms/step - loss: 9.8467e-07 - accuracy: 0.0148 - val_loss: 1.1102e-06 - val_accuracy: 0.0148\n",
      "Epoch 80/80\n",
      "3516/3516 [==============================] - 7s 2ms/step - loss: 9.3682e-07 - accuracy: 0.0148 - val_loss: 1.5738e-06 - val_accuracy: 0.0148\n"
     ]
    }
   ],
   "source": [
    "from sklearn.model_selection import train_test_split\n",
    "X_train, X_valid, y_train, y_valid = train_test_split(Xtrain, ytrain, test_size = 0.1)\n",
    "history = mymodel1.fit(X_train, y_train, epochs = 80, batch_size = 512, validation_data=(X_valid, y_valid))"
   ]
  },
  {
   "cell_type": "code",
   "execution_count": 31,
   "metadata": {},
   "outputs": [
    {
     "data": {
      "image/png": "[encoded data removed]",
      "text/plain": [
       "<Figure size 576x360 with 1 Axes>"
      ]
     },
     "metadata": {
      "needs_background": "light"
     },
     "output_type": "display_data"
    }
   ],
   "source": [
    "import pandas as pd\n",
    "import matplotlib.pyplot as plt\n",
    "myPd = pd.DataFrame(history.history)\n",
    "\n",
    "myPd.plot(figsize=(8, 5))\n",
    "plt.grid(True)\n",
    "plt.gca().set_ylim(0, 0.0001) # set the vertical range to [0-1]\n",
    "plt.show()"
   ]
  },
  {
   "cell_type": "code",
   "execution_count": 34,
   "metadata": {},
   "outputs": [
    {
     "name": "stdout",
     "output_type": "stream",
     "text": [
      "Epoch 1/80\n",
      "3516/3516 [==============================] - 104s 30ms/step - loss: 0.0013 - accuracy: 0.0148 - val_loss: 1.8564e-04 - val_accuracy: 0.0148\n",
      "Epoch 2/80\n",
      "3516/3516 [==============================] - 91s 26ms/step - loss: 1.3223e-04 - accuracy: 0.0148 - val_loss: 1.9598e-04 - val_accuracy: 0.0148\n",
      "Epoch 3/80\n",
      "3516/3516 [==============================] - 90s 26ms/step - loss: 9.8429e-05 - accuracy: 0.0148 - val_loss: 2.7350e-05 - val_accuracy: 0.0148\n",
      "Epoch 4/80\n",
      "3516/3516 [==============================] - 93s 26ms/step - loss: 7.7526e-05 - accuracy: 0.0148 - val_loss: 2.3971e-05 - val_accuracy: 0.0148\n",
      "Epoch 5/80\n",
      "3516/3516 [==============================] - 89s 25ms/step - loss: 6.2511e-05 - accuracy: 0.0148 - val_loss: 6.5692e-05 - val_accuracy: 0.0148\n",
      "Epoch 6/80\n",
      "3516/3516 [==============================] - 89s 25ms/step - loss: 5.2837e-05 - accuracy: 0.0148 - val_loss: 5.6968e-05 - val_accuracy: 0.0148\n",
      "Epoch 7/80\n",
      "3516/3516 [==============================] - 88s 25ms/step - loss: 4.3381e-05 - accuracy: 0.0148 - val_loss: 4.0818e-05 - val_accuracy: 0.0148\n",
      "Epoch 8/80\n",
      "3516/3516 [==============================] - 89s 25ms/step - loss: 3.6567e-05 - accuracy: 0.0148 - val_loss: 4.3296e-05 - val_accuracy: 0.0148\n",
      "Epoch 9/80\n",
      "3516/3516 [==============================] - 88s 25ms/step - loss: 3.1324e-05 - accuracy: 0.0148 - val_loss: 1.5421e-05 - val_accuracy: 0.0148\n",
      "Epoch 10/80\n",
      "3516/3516 [==============================] - 88s 25ms/step - loss: 2.7032e-05 - accuracy: 0.0148 - val_loss: 2.4892e-05 - val_accuracy: 0.0148\n",
      "Epoch 11/80\n",
      "3516/3516 [==============================] - 96s 27ms/step - loss: 2.3440e-05 - accuracy: 0.0148 - val_loss: 3.1374e-05 - val_accuracy: 0.0148\n",
      "Epoch 12/80\n",
      "3516/3516 [==============================] - 110s 31ms/step - loss: 2.0769e-05 - accuracy: 0.0148 - val_loss: 1.5332e-05 - val_accuracy: 0.0148\n",
      "Epoch 13/80\n",
      "3516/3516 [==============================] - 107s 30ms/step - loss: 1.8620e-05 - accuracy: 0.0148 - val_loss: 2.0669e-05 - val_accuracy: 0.0148\n",
      "Epoch 14/80\n",
      "3516/3516 [==============================] - 104s 30ms/step - loss: 1.6949e-05 - accuracy: 0.0148 - val_loss: 4.5462e-05 - val_accuracy: 0.0148\n",
      "Epoch 15/80\n",
      "3516/3516 [==============================] - 97s 28ms/step - loss: 1.5647e-05 - accuracy: 0.0148 - val_loss: 1.7968e-05 - val_accuracy: 0.0148\n",
      "Epoch 16/80\n",
      "3516/3516 [==============================] - 97s 28ms/step - loss: 1.4441e-05 - accuracy: 0.0148 - val_loss: 1.3135e-05 - val_accuracy: 0.0148\n",
      "Epoch 17/80\n",
      "3516/3516 [==============================] - 93s 27ms/step - loss: 1.3738e-05 - accuracy: 0.0148 - val_loss: 1.3460e-05 - val_accuracy: 0.0148\n",
      "Epoch 18/80\n",
      "3516/3516 [==============================] - 93s 26ms/step - loss: 1.2656e-05 - accuracy: 0.0148 - val_loss: 1.2998e-05 - val_accuracy: 0.0148\n",
      "Epoch 19/80\n",
      "3516/3516 [==============================] - 93s 26ms/step - loss: 1.2176e-05 - accuracy: 0.0148 - val_loss: 1.0107e-05 - val_accuracy: 0.0148\n",
      "Epoch 20/80\n",
      "3516/3516 [==============================] - 92s 26ms/step - loss: 1.1657e-05 - accuracy: 0.0148 - val_loss: 9.1206e-06 - val_accuracy: 0.0148\n",
      "Epoch 21/80\n",
      "3516/3516 [==============================] - 87s 25ms/step - loss: 1.1081e-05 - accuracy: 0.0148 - val_loss: 1.0333e-05 - val_accuracy: 0.0148\n",
      "Epoch 22/80\n",
      "3516/3516 [==============================] - 87s 25ms/step - loss: 1.0541e-05 - accuracy: 0.0148 - val_loss: 1.4072e-05 - val_accuracy: 0.0148\n",
      "Epoch 23/80\n",
      "3516/3516 [==============================] - 87s 25ms/step - loss: 1.0105e-05 - accuracy: 0.0148 - val_loss: 8.1055e-06 - val_accuracy: 0.0148\n",
      "Epoch 24/80\n",
      "3516/3516 [==============================] - 93s 26ms/step - loss: 9.6898e-06 - accuracy: 0.0148 - val_loss: 7.7767e-06 - val_accuracy: 0.0148\n",
      "Epoch 25/80\n",
      "3516/3516 [==============================] - 112s 32ms/step - loss: 9.0831e-06 - accuracy: 0.0148 - val_loss: 9.4847e-06 - val_accuracy: 0.0148\n",
      "Epoch 26/80\n",
      "3516/3516 [==============================] - 85s 24ms/step - loss: 8.7043e-06 - accuracy: 0.0148 - val_loss: 7.2017e-06 - val_accuracy: 0.0148\n",
      "Epoch 27/80\n",
      "3516/3516 [==============================] - 85s 24ms/step - loss: 8.3383e-06 - accuracy: 0.0148 - val_loss: 8.4464e-06 - val_accuracy: 0.0148\n",
      "Epoch 28/80\n",
      "3516/3516 [==============================] - 86s 25ms/step - loss: 7.8400e-06 - accuracy: 0.0148 - val_loss: 7.4788e-06 - val_accuracy: 0.0148\n",
      "Epoch 29/80\n",
      "3516/3516 [==============================] - 85s 24ms/step - loss: 7.5255e-06 - accuracy: 0.0148 - val_loss: 7.6922e-06 - val_accuracy: 0.0148\n",
      "Epoch 30/80\n",
      "3516/3516 [==============================] - 99s 28ms/step - loss: 7.1919e-06 - accuracy: 0.0148 - val_loss: 5.9559e-06 - val_accuracy: 0.0148\n",
      "Epoch 31/80\n",
      "3516/3516 [==============================] - 87s 25ms/step - loss: 6.8992e-06 - accuracy: 0.0148 - val_loss: 5.8423e-06 - val_accuracy: 0.0148\n",
      "Epoch 32/80\n",
      "3516/3516 [==============================] - 87s 25ms/step - loss: 6.7160e-06 - accuracy: 0.0148 - val_loss: 8.5130e-06 - val_accuracy: 0.0148\n",
      "Epoch 33/80\n",
      "3516/3516 [==============================] - 96s 27ms/step - loss: 6.3714e-06 - accuracy: 0.0148 - val_loss: 7.6751e-06 - val_accuracy: 0.0148\n",
      "Epoch 34/80\n",
      "3516/3516 [==============================] - 85s 24ms/step - loss: 6.3185e-06 - accuracy: 0.0148 - val_loss: 5.4255e-06 - val_accuracy: 0.0148\n",
      "Epoch 35/80\n",
      "3516/3516 [==============================] - 85s 24ms/step - loss: 6.1445e-06 - accuracy: 0.0148 - val_loss: 1.0715e-05 - val_accuracy: 0.0148\n",
      "Epoch 36/80\n",
      "3516/3516 [==============================] - 86s 25ms/step - loss: 6.0145e-06 - accuracy: 0.0148 - val_loss: 5.2482e-06 - val_accuracy: 0.0148\n",
      "Epoch 37/80\n",
      "3516/3516 [==============================] - 87s 25ms/step - loss: 5.8804e-06 - accuracy: 0.0148 - val_loss: 6.5551e-06 - val_accuracy: 0.0148\n",
      "Epoch 38/80\n",
      "3516/3516 [==============================] - 89s 25ms/step - loss: 5.7428e-06 - accuracy: 0.0148 - val_loss: 5.3876e-06 - val_accuracy: 0.0148\n",
      "Epoch 39/80\n",
      "3516/3516 [==============================] - 86s 25ms/step - loss: 5.6763e-06 - accuracy: 0.0148 - val_loss: 7.2841e-06 - val_accuracy: 0.0148\n",
      "Epoch 40/80\n",
      "3516/3516 [==============================] - 86s 25ms/step - loss: 5.6444e-06 - accuracy: 0.0148 - val_loss: 4.7180e-06 - val_accuracy: 0.0148\n",
      "Epoch 41/80\n",
      "3516/3516 [==============================] - 91s 26ms/step - loss: 5.4788e-06 - accuracy: 0.0148 - val_loss: 6.8795e-06 - val_accuracy: 0.0148\n",
      "Epoch 42/80\n",
      "3516/3516 [==============================] - 85s 24ms/step - loss: 5.3848e-06 - accuracy: 0.0148 - val_loss: 5.6445e-06 - val_accuracy: 0.0148\n",
      "Epoch 43/80\n",
      "3516/3516 [==============================] - 85s 24ms/step - loss: 5.3458e-06 - accuracy: 0.0148 - val_loss: 4.9904e-06 - val_accuracy: 0.0148\n",
      "Epoch 44/80\n",
      "3516/3516 [==============================] - 87s 25ms/step - loss: 5.1967e-06 - accuracy: 0.0148 - val_loss: 5.2933e-06 - val_accuracy: 0.0148\n",
      "Epoch 45/80\n",
      "3516/3516 [==============================] - 102s 29ms/step - loss: 5.1469e-06 - accuracy: 0.0148 - val_loss: 7.4928e-06 - val_accuracy: 0.0148\n",
      "Epoch 46/80\n",
      "3516/3516 [==============================] - 104s 30ms/step - loss: 5.0212e-06 - accuracy: 0.0148 - val_loss: 4.9264e-06 - val_accuracy: 0.0148\n",
      "Epoch 47/80\n",
      "3516/3516 [==============================] - 90s 25ms/step - loss: 5.0269e-06 - accuracy: 0.0148 - val_loss: 4.1104e-06 - val_accuracy: 0.0148\n",
      "Epoch 48/80\n",
      "3516/3516 [==============================] - 86s 24ms/step - loss: 4.9498e-06 - accuracy: 0.0148 - val_loss: 4.7142e-06 - val_accuracy: 0.0148\n",
      "Epoch 49/80\n",
      "3516/3516 [==============================] - 93s 26ms/step - loss: 4.8724e-06 - accuracy: 0.0148 - val_loss: 4.7604e-06 - val_accuracy: 0.0148\n",
      "Epoch 50/80\n",
      "3516/3516 [==============================] - 86s 24ms/step - loss: 4.7954e-06 - accuracy: 0.0148 - val_loss: 4.4287e-06 - val_accuracy: 0.0148\n",
      "Epoch 51/80\n",
      "3516/3516 [==============================] - 92s 26ms/step - loss: 4.8280e-06 - accuracy: 0.0148 - val_loss: 4.8257e-06 - val_accuracy: 0.0148\n",
      "Epoch 52/80\n",
      "3516/3516 [==============================] - 111s 32ms/step - loss: 4.6935e-06 - accuracy: 0.0148 - val_loss: 6.2358e-06 - val_accuracy: 0.0148\n",
      "Epoch 53/80\n",
      "3516/3516 [==============================] - 88s 25ms/step - loss: 4.6367e-06 - accuracy: 0.0148 - val_loss: 4.5693e-06 - val_accuracy: 0.0148\n",
      "Epoch 54/80\n",
      "3516/3516 [==============================] - 94s 27ms/step - loss: 4.6254e-06 - accuracy: 0.0148 - val_loss: 5.6309e-06 - val_accuracy: 0.0148\n",
      "Epoch 55/80\n",
      "3516/3516 [==============================] - 90s 26ms/step - loss: 4.5955e-06 - accuracy: 0.0148 - val_loss: 3.9413e-06 - val_accuracy: 0.0148\n",
      "Epoch 56/80\n",
      "3516/3516 [==============================] - 86s 24ms/step - loss: 4.5241e-06 - accuracy: 0.0148 - val_loss: 5.1846e-06 - val_accuracy: 0.0148\n",
      "Epoch 57/80\n",
      "3516/3516 [==============================] - 105s 30ms/step - loss: 4.4630e-06 - accuracy: 0.0148 - val_loss: 4.1227e-06 - val_accuracy: 0.0148\n",
      "Epoch 58/80\n",
      "3516/3516 [==============================] - 96s 27ms/step - loss: 4.4789e-06 - accuracy: 0.0148 - val_loss: 3.7015e-06 - val_accuracy: 0.0148\n",
      "Epoch 59/80\n",
      "3516/3516 [==============================] - 92s 26ms/step - loss: 4.3794e-06 - accuracy: 0.0148 - val_loss: 4.2427e-06 - val_accuracy: 0.0148\n",
      "Epoch 60/80\n",
      "3516/3516 [==============================] - 90s 26ms/step - loss: 4.2879e-06 - accuracy: 0.0148 - val_loss: 3.7894e-06 - val_accuracy: 0.0148\n",
      "Epoch 61/80\n",
      "3516/3516 [==============================] - 92s 26ms/step - loss: 4.3397e-06 - accuracy: 0.0148 - val_loss: 4.9618e-06 - val_accuracy: 0.0148\n",
      "Epoch 62/80\n",
      "3516/3516 [==============================] - 90s 26ms/step - loss: 4.2423e-06 - accuracy: 0.0148 - val_loss: 3.9515e-06 - val_accuracy: 0.0148\n",
      "Epoch 63/80\n",
      "3516/3516 [==============================] - 91s 26ms/step - loss: 4.2269e-06 - accuracy: 0.0148 - val_loss: 4.7149e-06 - val_accuracy: 0.0148\n",
      "Epoch 64/80\n",
      "3516/3516 [==============================] - 88s 25ms/step - loss: 4.1703e-06 - accuracy: 0.0148 - val_loss: 4.2729e-06 - val_accuracy: 0.0148\n",
      "Epoch 65/80\n",
      "3516/3516 [==============================] - 87s 25ms/step - loss: 4.1584e-06 - accuracy: 0.0148 - val_loss: 3.3912e-06 - val_accuracy: 0.0148\n",
      "Epoch 66/80\n",
      "3516/3516 [==============================] - 86s 25ms/step - loss: 4.0984e-06 - accuracy: 0.0148 - val_loss: 4.9781e-06 - val_accuracy: 0.0148\n",
      "Epoch 67/80\n",
      "3516/3516 [==============================] - 99s 28ms/step - loss: 4.1067e-06 - accuracy: 0.0148 - val_loss: 3.3221e-06 - val_accuracy: 0.0148\n",
      "Epoch 68/80\n",
      "3516/3516 [==============================] - 96s 27ms/step - loss: 4.0454e-06 - accuracy: 0.0148 - val_loss: 5.1430e-06 - val_accuracy: 0.0148\n",
      "Epoch 69/80\n",
      "3516/3516 [==============================] - 93s 26ms/step - loss: 4.0252e-06 - accuracy: 0.0148 - val_loss: 3.9357e-06 - val_accuracy: 0.0148\n",
      "Epoch 70/80\n",
      "3516/3516 [==============================] - 95s 27ms/step - loss: 3.9268e-06 - accuracy: 0.0148 - val_loss: 3.6900e-06 - val_accuracy: 0.0148\n",
      "Epoch 71/80\n",
      "3516/3516 [==============================] - 89s 25ms/step - loss: 3.9276e-06 - accuracy: 0.0148 - val_loss: 3.3054e-06 - val_accuracy: 0.0148\n",
      "Epoch 72/80\n",
      "3516/3516 [==============================] - 92s 26ms/step - loss: 3.8654e-06 - accuracy: 0.0148 - val_loss: 3.3065e-06 - val_accuracy: 0.0148\n",
      "Epoch 73/80\n",
      "3516/3516 [==============================] - 99s 28ms/step - loss: 3.8447e-06 - accuracy: 0.0148 - val_loss: 3.3664e-06 - val_accuracy: 0.0148\n",
      "Epoch 74/80\n",
      "3516/3516 [==============================] - 89s 25ms/step - loss: 3.8310e-06 - accuracy: 0.0148 - val_loss: 3.5712e-06 - val_accuracy: 0.0148\n",
      "Epoch 75/80\n",
      "3516/3516 [==============================] - 88s 25ms/step - loss: 3.8162e-06 - accuracy: 0.0148 - val_loss: 4.3673e-06 - val_accuracy: 0.0148\n",
      "Epoch 76/80\n",
      "3516/3516 [==============================] - 89s 25ms/step - loss: 3.7036e-06 - accuracy: 0.0148 - val_loss: 3.4611e-06 - val_accuracy: 0.0148\n",
      "Epoch 77/80\n",
      "3516/3516 [==============================] - 88s 25ms/step - loss: 3.6967e-06 - accuracy: 0.0148 - val_loss: 3.0893e-06 - val_accuracy: 0.0148\n",
      "Epoch 78/80\n",
      "3516/3516 [==============================] - 85s 24ms/step - loss: 3.7126e-06 - accuracy: 0.0148 - val_loss: 3.3535e-06 - val_accuracy: 0.0148\n",
      "Epoch 79/80\n",
      "3516/3516 [==============================] - 86s 25ms/step - loss: 3.6382e-06 - accuracy: 0.0148 - val_loss: 3.1136e-06 - val_accuracy: 0.0148\n",
      "Epoch 80/80\n",
      "3516/3516 [==============================] - 85s 24ms/step - loss: 3.6346e-06 - accuracy: 0.0148 - val_loss: 2.9882e-06 - val_accuracy: 0.0148\n"
     ]
    }
   ],
   "source": [
    "RBFhistory = myRBFmodel.fit(X_train, y_train, epochs = 80, batch_size = 512, validation_data=(X_valid, y_valid))"
   ]
  },
  {
   "cell_type": "code",
   "execution_count": 35,
   "metadata": {},
   "outputs": [
    {
     "data": {
      "image/png": "[encoded data removed]",
      "text/plain": [
       "<Figure size 576x360 with 1 Axes>"
      ]
     },
     "metadata": {
      "needs_background": "light"
     },
     "output_type": "display_data"
    }
   ],
   "source": [
    "myRBFPd = pd.DataFrame(RBFhistory.history)\n",
    "\n",
    "myRBFPd.plot(figsize=(8, 5))\n",
    "plt.grid(True)\n",
    "plt.gca().set_ylim(0, 0.0001) # set the vertical range to [0-1]\n",
    "plt.show()"
   ]
  },
  {
   "cell_type": "code",
   "execution_count": 36,
   "metadata": {},
   "outputs": [
    {
     "data": {
      "image/png": "[encoded data removed]",
      "text/plain": [
       "<Figure size 432x288 with 1 Axes>"
      ]
     },
     "metadata": {
      "needs_background": "light"
     },
     "output_type": "display_data"
    }
   ],
   "source": [
    "plt.plot(myPd[\"loss\"], \"r\", label = \"Feedforward\")\n",
    "#plt.plot(pd1[\"val_loss\"], \"b\")\n",
    "plt.plot(myRBFPd[\"loss\"], \"g\", label = \"RBF\")\n",
    "\n",
    "plt.grid(True)\n",
    "plt.gca().set_ylim(0, 0.0001)\n",
    "plt.legend(loc = \"upper right\")\n",
    "plt.title('BSlearningCurve3')\n",
    "plt.show()"
   ]
  },
  {
   "cell_type": "code",
   "execution_count": 37,
   "metadata": {},
   "outputs": [],
   "source": [
    "mymodel1.save(\"mymodel1.h5\")\n",
    "myRBFmodel.save(\"myRBFmodel.h5\")"
   ]
  },
  {
   "cell_type": "code",
   "execution_count": 5,
   "metadata": {},
   "outputs": [
    {
     "ename": "ValueError",
     "evalue": "Unknown layer: RBFLayer",
     "output_type": "error",
     "traceback": [
      "\u001b[1;31m---------------------------------------------------------------------------\u001b[0m",
      "\u001b[1;31mValueError\u001b[0m                                Traceback (most recent call last)",
      "\u001b[1;32m<ipython-input-5-ebd1f2ad8683>\u001b[0m in \u001b[0;36m<module>\u001b[1;34m\u001b[0m\n\u001b[1;32m----> 1\u001b[1;33m \u001b[0mkeras\u001b[0m\u001b[1;33m.\u001b[0m\u001b[0mmodels\u001b[0m\u001b[1;33m.\u001b[0m\u001b[0mload_model\u001b[0m\u001b[1;33m(\u001b[0m\u001b[1;34m\"myRBFmodel.h5\"\u001b[0m\u001b[1;33m,\u001b[0m \u001b[0mcustom_objects\u001b[0m\u001b[1;33m=\u001b[0m\u001b[1;33m{\u001b[0m\u001b[1;34m'CustomLayer'\u001b[0m\u001b[1;33m:\u001b[0m \u001b[0mRBFLayer\u001b[0m\u001b[1;33m}\u001b[0m\u001b[1;33m)\u001b[0m\u001b[1;33m\u001b[0m\u001b[1;33m\u001b[0m\u001b[0m\n\u001b[0m",
      "\u001b[1;32mC:\\anaconda\\envs\\virtualenv\\lib\\site-packages\\tensorflow\\python\\keras\\saving\\save.py\u001b[0m in \u001b[0;36mload_model\u001b[1;34m(filepath, custom_objects, compile, options)\u001b[0m\n\u001b[0;32m    180\u001b[0m     if (h5py is not None and (\n\u001b[0;32m    181\u001b[0m         isinstance(filepath, h5py.File) or h5py.is_hdf5(filepath))):\n\u001b[1;32m--> 182\u001b[1;33m       \u001b[1;32mreturn\u001b[0m \u001b[0mhdf5_format\u001b[0m\u001b[1;33m.\u001b[0m\u001b[0mload_model_from_hdf5\u001b[0m\u001b[1;33m(\u001b[0m\u001b[0mfilepath\u001b[0m\u001b[1;33m,\u001b[0m \u001b[0mcustom_objects\u001b[0m\u001b[1;33m,\u001b[0m \u001b[0mcompile\u001b[0m\u001b[1;33m)\u001b[0m\u001b[1;33m\u001b[0m\u001b[1;33m\u001b[0m\u001b[0m\n\u001b[0m\u001b[0;32m    183\u001b[0m \u001b[1;33m\u001b[0m\u001b[0m\n\u001b[0;32m    184\u001b[0m     \u001b[0mfilepath\u001b[0m \u001b[1;33m=\u001b[0m \u001b[0mpath_to_string\u001b[0m\u001b[1;33m(\u001b[0m\u001b[0mfilepath\u001b[0m\u001b[1;33m)\u001b[0m\u001b[1;33m\u001b[0m\u001b[1;33m\u001b[0m\u001b[0m\n",
      "\u001b[1;32mC:\\anaconda\\envs\\virtualenv\\lib\\site-packages\\tensorflow\\python\\keras\\saving\\hdf5_format.py\u001b[0m in \u001b[0;36mload_model_from_hdf5\u001b[1;34m(filepath, custom_objects, compile)\u001b[0m\n\u001b[0;32m    176\u001b[0m     \u001b[0mmodel_config\u001b[0m \u001b[1;33m=\u001b[0m \u001b[0mjson\u001b[0m\u001b[1;33m.\u001b[0m\u001b[0mloads\u001b[0m\u001b[1;33m(\u001b[0m\u001b[0mmodel_config\u001b[0m\u001b[1;33m.\u001b[0m\u001b[0mdecode\u001b[0m\u001b[1;33m(\u001b[0m\u001b[1;34m'utf-8'\u001b[0m\u001b[1;33m)\u001b[0m\u001b[1;33m)\u001b[0m\u001b[1;33m\u001b[0m\u001b[1;33m\u001b[0m\u001b[0m\n\u001b[0;32m    177\u001b[0m     model = model_config_lib.model_from_config(model_config,\n\u001b[1;32m--> 178\u001b[1;33m                                                custom_objects=custom_objects)\n\u001b[0m\u001b[0;32m    179\u001b[0m \u001b[1;33m\u001b[0m\u001b[0m\n\u001b[0;32m    180\u001b[0m     \u001b[1;31m# set weights\u001b[0m\u001b[1;33m\u001b[0m\u001b[1;33m\u001b[0m\u001b[1;33m\u001b[0m\u001b[0m\n",
      "\u001b[1;32mC:\\anaconda\\envs\\virtualenv\\lib\\site-packages\\tensorflow\\python\\keras\\saving\\model_config.py\u001b[0m in \u001b[0;36mmodel_from_config\u001b[1;34m(config, custom_objects)\u001b[0m\n\u001b[0;32m     53\u001b[0m                     '`Sequential.from_config(config)`?')\n\u001b[0;32m     54\u001b[0m   \u001b[1;32mfrom\u001b[0m \u001b[0mtensorflow\u001b[0m\u001b[1;33m.\u001b[0m\u001b[0mpython\u001b[0m\u001b[1;33m.\u001b[0m\u001b[0mkeras\u001b[0m\u001b[1;33m.\u001b[0m\u001b[0mlayers\u001b[0m \u001b[1;32mimport\u001b[0m \u001b[0mdeserialize\u001b[0m  \u001b[1;31m# pylint: disable=g-import-not-at-top\u001b[0m\u001b[1;33m\u001b[0m\u001b[1;33m\u001b[0m\u001b[0m\n\u001b[1;32m---> 55\u001b[1;33m   \u001b[1;32mreturn\u001b[0m \u001b[0mdeserialize\u001b[0m\u001b[1;33m(\u001b[0m\u001b[0mconfig\u001b[0m\u001b[1;33m,\u001b[0m \u001b[0mcustom_objects\u001b[0m\u001b[1;33m=\u001b[0m\u001b[0mcustom_objects\u001b[0m\u001b[1;33m)\u001b[0m\u001b[1;33m\u001b[0m\u001b[1;33m\u001b[0m\u001b[0m\n\u001b[0m\u001b[0;32m     56\u001b[0m \u001b[1;33m\u001b[0m\u001b[0m\n\u001b[0;32m     57\u001b[0m \u001b[1;33m\u001b[0m\u001b[0m\n",
      "\u001b[1;32mC:\\anaconda\\envs\\virtualenv\\lib\\site-packages\\tensorflow\\python\\keras\\layers\\serialization.py\u001b[0m in \u001b[0;36mdeserialize\u001b[1;34m(config, custom_objects)\u001b[0m\n\u001b[0;32m    173\u001b[0m       \u001b[0mmodule_objects\u001b[0m\u001b[1;33m=\u001b[0m\u001b[0mLOCAL\u001b[0m\u001b[1;33m.\u001b[0m\u001b[0mALL_OBJECTS\u001b[0m\u001b[1;33m,\u001b[0m\u001b[1;33m\u001b[0m\u001b[1;33m\u001b[0m\u001b[0m\n\u001b[0;32m    174\u001b[0m       \u001b[0mcustom_objects\u001b[0m\u001b[1;33m=\u001b[0m\u001b[0mcustom_objects\u001b[0m\u001b[1;33m,\u001b[0m\u001b[1;33m\u001b[0m\u001b[1;33m\u001b[0m\u001b[0m\n\u001b[1;32m--> 175\u001b[1;33m       printable_module_name='layer')\n\u001b[0m",
      "\u001b[1;32mC:\\anaconda\\envs\\virtualenv\\lib\\site-packages\\tensorflow\\python\\keras\\utils\\generic_utils.py\u001b[0m in \u001b[0;36mdeserialize_keras_object\u001b[1;34m(identifier, module_objects, custom_objects, printable_module_name)\u001b[0m\n\u001b[0;32m    356\u001b[0m             custom_objects=dict(\n\u001b[0;32m    357\u001b[0m                 \u001b[0mlist\u001b[0m\u001b[1;33m(\u001b[0m\u001b[0m_GLOBAL_CUSTOM_OBJECTS\u001b[0m\u001b[1;33m.\u001b[0m\u001b[0mitems\u001b[0m\u001b[1;33m(\u001b[0m\u001b[1;33m)\u001b[0m\u001b[1;33m)\u001b[0m \u001b[1;33m+\u001b[0m\u001b[1;33m\u001b[0m\u001b[1;33m\u001b[0m\u001b[0m\n\u001b[1;32m--> 358\u001b[1;33m                 list(custom_objects.items())))\n\u001b[0m\u001b[0;32m    359\u001b[0m       \u001b[1;32mwith\u001b[0m \u001b[0mCustomObjectScope\u001b[0m\u001b[1;33m(\u001b[0m\u001b[0mcustom_objects\u001b[0m\u001b[1;33m)\u001b[0m\u001b[1;33m:\u001b[0m\u001b[1;33m\u001b[0m\u001b[1;33m\u001b[0m\u001b[0m\n\u001b[0;32m    360\u001b[0m         \u001b[1;32mreturn\u001b[0m \u001b[0mcls\u001b[0m\u001b[1;33m.\u001b[0m\u001b[0mfrom_config\u001b[0m\u001b[1;33m(\u001b[0m\u001b[0mcls_config\u001b[0m\u001b[1;33m)\u001b[0m\u001b[1;33m\u001b[0m\u001b[1;33m\u001b[0m\u001b[0m\n",
      "\u001b[1;32mC:\\anaconda\\envs\\virtualenv\\lib\\site-packages\\tensorflow\\python\\keras\\engine\\sequential.py\u001b[0m in \u001b[0;36mfrom_config\u001b[1;34m(cls, config, custom_objects)\u001b[0m\n\u001b[0;32m    485\u001b[0m     \u001b[1;32mfor\u001b[0m \u001b[0mlayer_config\u001b[0m \u001b[1;32min\u001b[0m \u001b[0mlayer_configs\u001b[0m\u001b[1;33m:\u001b[0m\u001b[1;33m\u001b[0m\u001b[1;33m\u001b[0m\u001b[0m\n\u001b[0;32m    486\u001b[0m       layer = layer_module.deserialize(layer_config,\n\u001b[1;32m--> 487\u001b[1;33m                                        custom_objects=custom_objects)\n\u001b[0m\u001b[0;32m    488\u001b[0m       \u001b[0mmodel\u001b[0m\u001b[1;33m.\u001b[0m\u001b[0madd\u001b[0m\u001b[1;33m(\u001b[0m\u001b[0mlayer\u001b[0m\u001b[1;33m)\u001b[0m\u001b[1;33m\u001b[0m\u001b[1;33m\u001b[0m\u001b[0m\n\u001b[0;32m    489\u001b[0m     if (not model.inputs and build_input_shape and\n",
      "\u001b[1;32mC:\\anaconda\\envs\\virtualenv\\lib\\site-packages\\tensorflow\\python\\keras\\layers\\serialization.py\u001b[0m in \u001b[0;36mdeserialize\u001b[1;34m(config, custom_objects)\u001b[0m\n\u001b[0;32m    173\u001b[0m       \u001b[0mmodule_objects\u001b[0m\u001b[1;33m=\u001b[0m\u001b[0mLOCAL\u001b[0m\u001b[1;33m.\u001b[0m\u001b[0mALL_OBJECTS\u001b[0m\u001b[1;33m,\u001b[0m\u001b[1;33m\u001b[0m\u001b[1;33m\u001b[0m\u001b[0m\n\u001b[0;32m    174\u001b[0m       \u001b[0mcustom_objects\u001b[0m\u001b[1;33m=\u001b[0m\u001b[0mcustom_objects\u001b[0m\u001b[1;33m,\u001b[0m\u001b[1;33m\u001b[0m\u001b[1;33m\u001b[0m\u001b[0m\n\u001b[1;32m--> 175\u001b[1;33m       printable_module_name='layer')\n\u001b[0m",
      "\u001b[1;32mC:\\anaconda\\envs\\virtualenv\\lib\\site-packages\\tensorflow\\python\\keras\\utils\\generic_utils.py\u001b[0m in \u001b[0;36mdeserialize_keras_object\u001b[1;34m(identifier, module_objects, custom_objects, printable_module_name)\u001b[0m\n\u001b[0;32m    345\u001b[0m     \u001b[0mconfig\u001b[0m \u001b[1;33m=\u001b[0m \u001b[0midentifier\u001b[0m\u001b[1;33m\u001b[0m\u001b[1;33m\u001b[0m\u001b[0m\n\u001b[0;32m    346\u001b[0m     (cls, cls_config) = class_and_config_for_serialized_keras_object(\n\u001b[1;32m--> 347\u001b[1;33m         config, module_objects, custom_objects, printable_module_name)\n\u001b[0m\u001b[0;32m    348\u001b[0m \u001b[1;33m\u001b[0m\u001b[0m\n\u001b[0;32m    349\u001b[0m     \u001b[1;32mif\u001b[0m \u001b[0mhasattr\u001b[0m\u001b[1;33m(\u001b[0m\u001b[0mcls\u001b[0m\u001b[1;33m,\u001b[0m \u001b[1;34m'from_config'\u001b[0m\u001b[1;33m)\u001b[0m\u001b[1;33m:\u001b[0m\u001b[1;33m\u001b[0m\u001b[1;33m\u001b[0m\u001b[0m\n",
      "\u001b[1;32mC:\\anaconda\\envs\\virtualenv\\lib\\site-packages\\tensorflow\\python\\keras\\utils\\generic_utils.py\u001b[0m in \u001b[0;36mclass_and_config_for_serialized_keras_object\u001b[1;34m(config, module_objects, custom_objects, printable_module_name)\u001b[0m\n\u001b[0;32m    294\u001b[0m   \u001b[0mcls\u001b[0m \u001b[1;33m=\u001b[0m \u001b[0mget_registered_object\u001b[0m\u001b[1;33m(\u001b[0m\u001b[0mclass_name\u001b[0m\u001b[1;33m,\u001b[0m \u001b[0mcustom_objects\u001b[0m\u001b[1;33m,\u001b[0m \u001b[0mmodule_objects\u001b[0m\u001b[1;33m)\u001b[0m\u001b[1;33m\u001b[0m\u001b[1;33m\u001b[0m\u001b[0m\n\u001b[0;32m    295\u001b[0m   \u001b[1;32mif\u001b[0m \u001b[0mcls\u001b[0m \u001b[1;32mis\u001b[0m \u001b[1;32mNone\u001b[0m\u001b[1;33m:\u001b[0m\u001b[1;33m\u001b[0m\u001b[1;33m\u001b[0m\u001b[0m\n\u001b[1;32m--> 296\u001b[1;33m     \u001b[1;32mraise\u001b[0m \u001b[0mValueError\u001b[0m\u001b[1;33m(\u001b[0m\u001b[1;34m'Unknown '\u001b[0m \u001b[1;33m+\u001b[0m \u001b[0mprintable_module_name\u001b[0m \u001b[1;33m+\u001b[0m \u001b[1;34m': '\u001b[0m \u001b[1;33m+\u001b[0m \u001b[0mclass_name\u001b[0m\u001b[1;33m)\u001b[0m\u001b[1;33m\u001b[0m\u001b[1;33m\u001b[0m\u001b[0m\n\u001b[0m\u001b[0;32m    297\u001b[0m \u001b[1;33m\u001b[0m\u001b[0m\n\u001b[0;32m    298\u001b[0m   \u001b[0mcls_config\u001b[0m \u001b[1;33m=\u001b[0m \u001b[0mconfig\u001b[0m\u001b[1;33m[\u001b[0m\u001b[1;34m'config'\u001b[0m\u001b[1;33m]\u001b[0m\u001b[1;33m\u001b[0m\u001b[1;33m\u001b[0m\u001b[0m\n",
      "\u001b[1;31mValueError\u001b[0m: Unknown layer: RBFLayer"
     ]
    }
   ],
   "source": [
    "keras.models.load_model(\"myRBFmodel.h5\", custom_objects={'CustomLayer': RBFLayer})"
   ]
  },
  {
   "cell_type": "code",
   "execution_count": 13,
   "metadata": {},
   "outputs": [],
   "source": [
    "# ###################### TEST #############################"
   ]
  },
  {
   "cell_type": "code",
   "execution_count": 37,
   "metadata": {},
   "outputs": [
    {
     "data": {
      "text/html": [
       "<div>\n",
       "<style scoped>\n",
       "    .dataframe tbody tr th:only-of-type {\n",
       "        vertical-align: middle;\n",
       "    }\n",
       "\n",
       "    .dataframe tbody tr th {\n",
       "        vertical-align: top;\n",
       "    }\n",
       "\n",
       "    .dataframe thead th {\n",
       "        text-align: right;\n",
       "    }\n",
       "</style>\n",
       "<table border=\"1\" class=\"dataframe\">\n",
       "  <thead>\n",
       "    <tr style=\"text-align: right;\">\n",
       "      <th></th>\n",
       "      <th>mns</th>\n",
       "      <th>tau</th>\n",
       "      <th>r</th>\n",
       "      <th>sigma</th>\n",
       "      <th>V/K</th>\n",
       "    </tr>\n",
       "  </thead>\n",
       "  <tbody>\n",
       "    <tr>\n",
       "      <th>0</th>\n",
       "      <td>1.590163</td>\n",
       "      <td>0.888092</td>\n",
       "      <td>0.054842</td>\n",
       "      <td>0.262597</td>\n",
       "      <td>0.639821</td>\n",
       "    </tr>\n",
       "    <tr>\n",
       "      <th>1</th>\n",
       "      <td>1.385022</td>\n",
       "      <td>0.959522</td>\n",
       "      <td>0.082605</td>\n",
       "      <td>0.165499</td>\n",
       "      <td>0.461592</td>\n",
       "    </tr>\n",
       "    <tr>\n",
       "      <th>2</th>\n",
       "      <td>0.436090</td>\n",
       "      <td>0.415409</td>\n",
       "      <td>0.021017</td>\n",
       "      <td>0.417887</td>\n",
       "      <td>0.000056</td>\n",
       "    </tr>\n",
       "    <tr>\n",
       "      <th>3</th>\n",
       "      <td>0.897337</td>\n",
       "      <td>0.386878</td>\n",
       "      <td>0.092519</td>\n",
       "      <td>0.675848</td>\n",
       "      <td>0.123521</td>\n",
       "    </tr>\n",
       "    <tr>\n",
       "      <th>4</th>\n",
       "      <td>0.678262</td>\n",
       "      <td>0.947873</td>\n",
       "      <td>0.096074</td>\n",
       "      <td>0.157999</td>\n",
       "      <td>0.001229</td>\n",
       "    </tr>\n",
       "  </tbody>\n",
       "</table>\n",
       "</div>"
      ],
      "text/plain": [
       "        mns       tau         r     sigma       V/K\n",
       "0  1.590163  0.888092  0.054842  0.262597  0.639821\n",
       "1  1.385022  0.959522  0.082605  0.165499  0.461592\n",
       "2  0.436090  0.415409  0.021017  0.417887  0.000056\n",
       "3  0.897337  0.386878  0.092519  0.675848  0.123521\n",
       "4  0.678262  0.947873  0.096074  0.157999  0.001229"
      ]
     },
     "execution_count": 37,
     "metadata": {},
     "output_type": "execute_result"
    }
   ],
   "source": [
    "pd_BS = pd.read_csv(r'C:\\Users\\Γιώργος\\Desktop\\THESIS\\PYTHON\\DATA\\BsTest.csv')\n",
    "X = pd_BS.to_numpy()\n",
    "\n",
    "inputs_BS = np.array(X[:,:4])\n",
    "outputs_BS = np.array(X[:,4])\n",
    "pd_BS.head()"
   ]
  },
  {
   "cell_type": "code",
   "execution_count": 38,
   "metadata": {},
   "outputs": [
    {
     "name": "stdout",
     "output_type": "stream",
     "text": [
      "6250/6250 [==============================] - 10s 2ms/step - loss: 1.5741e-06 - accuracy: 0.0148\n"
     ]
    }
   ],
   "source": [
    "FF_Test  = mymodel1.evaluate(inputs_BS,outputs_BS)\n"
   ]
  },
  {
   "cell_type": "code",
   "execution_count": 24,
   "metadata": {},
   "outputs": [
    {
     "data": {
      "text/html": [
       "<div>\n",
       "<style scoped>\n",
       "    .dataframe tbody tr th:only-of-type {\n",
       "        vertical-align: middle;\n",
       "    }\n",
       "\n",
       "    .dataframe tbody tr th {\n",
       "        vertical-align: top;\n",
       "    }\n",
       "\n",
       "    .dataframe thead th {\n",
       "        text-align: right;\n",
       "    }\n",
       "</style>\n",
       "<table border=\"1\" class=\"dataframe\">\n",
       "  <thead>\n",
       "    <tr style=\"text-align: right;\">\n",
       "      <th></th>\n",
       "      <th>mns</th>\n",
       "      <th>tau</th>\n",
       "      <th>r</th>\n",
       "      <th>sigma</th>\n",
       "      <th>V/K</th>\n",
       "    </tr>\n",
       "  </thead>\n",
       "  <tbody>\n",
       "    <tr>\n",
       "      <th>0</th>\n",
       "      <td>1.392623</td>\n",
       "      <td>0.776319</td>\n",
       "      <td>0.043553</td>\n",
       "      <td>0.436368</td>\n",
       "      <td>0.436368</td>\n",
       "    </tr>\n",
       "    <tr>\n",
       "      <th>1</th>\n",
       "      <td>1.238767</td>\n",
       "      <td>0.851717</td>\n",
       "      <td>0.078256</td>\n",
       "      <td>0.308680</td>\n",
       "      <td>0.308680</td>\n",
       "    </tr>\n",
       "    <tr>\n",
       "      <th>2</th>\n",
       "      <td>0.527068</td>\n",
       "      <td>0.277376</td>\n",
       "      <td>0.001272</td>\n",
       "      <td>0.000149</td>\n",
       "      <td>0.000149</td>\n",
       "    </tr>\n",
       "    <tr>\n",
       "      <th>3</th>\n",
       "      <td>0.873002</td>\n",
       "      <td>0.247260</td>\n",
       "      <td>0.090648</td>\n",
       "      <td>0.080202</td>\n",
       "      <td>0.080202</td>\n",
       "    </tr>\n",
       "    <tr>\n",
       "      <th>4</th>\n",
       "      <td>0.708696</td>\n",
       "      <td>0.839421</td>\n",
       "      <td>0.095092</td>\n",
       "      <td>0.004126</td>\n",
       "      <td>0.004126</td>\n",
       "    </tr>\n",
       "  </tbody>\n",
       "</table>\n",
       "</div>"
      ],
      "text/plain": [
       "        mns       tau         r     sigma       V/K\n",
       "0  1.392623  0.776319  0.043553  0.436368  0.436368\n",
       "1  1.238767  0.851717  0.078256  0.308680  0.308680\n",
       "2  0.527068  0.277376  0.001272  0.000149  0.000149\n",
       "3  0.873002  0.247260  0.090648  0.080202  0.080202\n",
       "4  0.708696  0.839421  0.095092  0.004126  0.004126"
      ]
     },
     "execution_count": 24,
     "metadata": {},
     "output_type": "execute_result"
    }
   ],
   "source": [
    "pd_IV = pd.read_csv(r'C:\\Users\\Γιώργος\\Desktop\\THESIS\\PYTHON\\DATA\\IvTest.csv')\n",
    "X = pd_IV.to_numpy()\n",
    "\n",
    "inputs_IV = np.array(X[:,:4])\n",
    "outputs_IV = np.array(X[:,4])\n",
    "pd_IV.head()"
   ]
  },
  {
   "cell_type": "code",
   "execution_count": 39,
   "metadata": {},
   "outputs": [
    {
     "name": "stdout",
     "output_type": "stream",
     "text": [
      "6250/6250 [==============================] - 15s 2ms/step - loss: 3.0488e-06 - accuracy: 0.0148\n",
      "6250/6250 [==============================] - 9s 1ms/step - loss: 1.5741e-06 - accuracy: 0.0148\n",
      "mean square error from RBF network : 3.048828602914e-06\n",
      "mean square error from feedforward network: 1.5741446759420796e-06\n"
     ]
    }
   ],
   "source": [
    "RBF_Test = myRBFmodel.evaluate(inputs_BS,outputs_BS)  \n",
    "FF_Test  = mymodel1.evaluate(inputs_BS,outputs_BS)\n",
    "print(\"mean square error from RBF network :\", RBF_Test[0])\n",
    "print(\"mean square error from feedforward network:\", FF_Test[0])"
   ]
  },
  {
   "cell_type": "code",
   "execution_count": 42,
   "metadata": {},
   "outputs": [],
   "source": [
    "##########################################\n",
    "###ERROR ANALYSIS!\n",
    "##########################################\n",
    "from tensorflow.keras import metrics"
   ]
  },
  {
   "cell_type": "code",
   "execution_count": 40,
   "metadata": {},
   "outputs": [],
   "source": [
    "RBFresults = myRBFmodel.predict(inputs_BS)\n",
    "model1results = mymodel1.predict(inputs_BS)\n"
   ]
  },
  {
   "cell_type": "code",
   "execution_count": 45,
   "metadata": {},
   "outputs": [
    {
     "data": {
      "text/plain": [
       "0.00091884873"
      ]
     },
     "execution_count": 45,
     "metadata": {},
     "output_type": "execute_result"
    }
   ],
   "source": [
    "m1 = metrics.MeanAbsoluteError()\n",
    "m1.update_state(RBFresults, outputs_BS)\n",
    "\n",
    "m1.result().numpy()"
   ]
  },
  {
   "cell_type": "code",
   "execution_count": 46,
   "metadata": {},
   "outputs": [
    {
     "data": {
      "text/plain": [
       "0.0010261238"
      ]
     },
     "execution_count": 46,
     "metadata": {},
     "output_type": "execute_result"
    }
   ],
   "source": [
    "m1 = metrics.MeanAbsoluteError()\n",
    "m1.update_state(model1results, outputs_BS)\n",
    "\n",
    "m1.result().numpy()"
   ]
  },
  {
   "cell_type": "code",
   "execution_count": 47,
   "metadata": {},
   "outputs": [
    {
     "data": {
      "text/plain": [
       "0.0017460813268573717"
      ]
     },
     "execution_count": 47,
     "metadata": {},
     "output_type": "execute_result"
    }
   ],
   "source": [
    "np.sqrt(3.0488e-06)"
   ]
  },
  {
   "cell_type": "code",
   "execution_count": 48,
   "metadata": {},
   "outputs": [],
   "source": [
    "def PEX_metrics(y_true, y_pred, X):\n",
    "    K = 0\n",
    "    n = len(y_true)\n",
    "    for i in range(n):\n",
    "        if(np.abs(y_true[i] - y_pred[i])<= X/100):\n",
    "            K = K+1\n",
    "    results = K/n *100\n",
    "    return(results)"
   ]
  },
  {
   "cell_type": "code",
   "execution_count": 49,
   "metadata": {},
   "outputs": [
    {
     "data": {
      "text/plain": [
       "50.4915"
      ]
     },
     "execution_count": 49,
     "metadata": {},
     "output_type": "execute_result"
    }
   ],
   "source": [
    "PEX_metrics(model1results, outputs_BS,0.1)"
   ]
  },
  {
   "cell_type": "code",
   "execution_count": 50,
   "metadata": {},
   "outputs": [
    {
     "data": {
      "text/plain": [
       "29.308"
      ]
     },
     "execution_count": 50,
     "metadata": {},
     "output_type": "execute_result"
    }
   ],
   "source": [
    "PEX_metrics(model1results, outputs_BS,0.05)"
   ]
  },
  {
   "cell_type": "code",
   "execution_count": 51,
   "metadata": {},
   "outputs": [
    {
     "data": {
      "text/plain": [
       "76.541"
      ]
     },
     "execution_count": 51,
     "metadata": {},
     "output_type": "execute_result"
    }
   ],
   "source": [
    "PEX_metrics(RBFresults, outputs_BS,0.1)"
   ]
  },
  {
   "cell_type": "code",
   "execution_count": 53,
   "metadata": {},
   "outputs": [
    {
     "data": {
      "text/plain": [
       "99.99900000000001"
      ]
     },
     "execution_count": 53,
     "metadata": {},
     "output_type": "execute_result"
    }
   ],
   "source": []
  },
  {
   "cell_type": "code",
   "execution_count": null,
   "metadata": {},
   "outputs": [],
   "source": []
  }
 ],
 "metadata": {
  "kernelspec": {
   "display_name": "Python 3",
   "language": "python",
   "name": "python3"
  },
  "language_info": {
   "codemirror_mode": {
    "name": "ipython",
    "version": 3
   },
   "file_extension": ".py",
   "mimetype": "text/x-python",
   "name": "python",
   "nbconvert_exporter": "python",
   "pygments_lexer": "ipython3",
   "version": "3.7.3"
  }
 },
 "nbformat": 4,
 "nbformat_minor": 2
}
